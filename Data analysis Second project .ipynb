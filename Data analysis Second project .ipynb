{
 "cells": [
  {
   "cell_type": "code",
   "execution_count": 1,
   "id": "ce21bbc2",
   "metadata": {},
   "outputs": [],
   "source": [
    "import pandas as pd\n",
    "import numpy as np\n",
    "import matplotlib.pyplot as plt\n",
    "import seaborn as sns\n",
    "pd.set_option(\"display.max_columns\", 90)\n",
    "pd.set_option(\"display.max_rows\", None)"
   ]
  },
  {
   "cell_type": "code",
   "execution_count": 2,
   "id": "9573de70",
   "metadata": {},
   "outputs": [
    {
     "data": {
      "text/html": [
       "<div>\n",
       "<style scoped>\n",
       "    .dataframe tbody tr th:only-of-type {\n",
       "        vertical-align: middle;\n",
       "    }\n",
       "\n",
       "    .dataframe tbody tr th {\n",
       "        vertical-align: top;\n",
       "    }\n",
       "\n",
       "    .dataframe thead th {\n",
       "        text-align: right;\n",
       "    }\n",
       "</style>\n",
       "<table border=\"1\" class=\"dataframe\">\n",
       "  <thead>\n",
       "    <tr style=\"text-align: right;\">\n",
       "      <th></th>\n",
       "      <th>Unnamed: 0</th>\n",
       "      <th>Name</th>\n",
       "      <th>Location</th>\n",
       "      <th>Year</th>\n",
       "      <th>Kilometers_Driven</th>\n",
       "      <th>Fuel_Type</th>\n",
       "      <th>Transmission</th>\n",
       "      <th>Owner_Type</th>\n",
       "      <th>Mileage</th>\n",
       "      <th>Engine</th>\n",
       "      <th>Power</th>\n",
       "      <th>Seats</th>\n",
       "      <th>New_Price</th>\n",
       "      <th>Price</th>\n",
       "    </tr>\n",
       "  </thead>\n",
       "  <tbody>\n",
       "    <tr>\n",
       "      <th>0</th>\n",
       "      <td>0</td>\n",
       "      <td>Maruti Wagon R LXI CNG</td>\n",
       "      <td>Mumbai</td>\n",
       "      <td>2010</td>\n",
       "      <td>72000</td>\n",
       "      <td>CNG</td>\n",
       "      <td>Manual</td>\n",
       "      <td>First</td>\n",
       "      <td>26.6 km/kg</td>\n",
       "      <td>998 CC</td>\n",
       "      <td>58.16 bhp</td>\n",
       "      <td>5.0</td>\n",
       "      <td>NaN</td>\n",
       "      <td>1.75</td>\n",
       "    </tr>\n",
       "    <tr>\n",
       "      <th>1</th>\n",
       "      <td>1</td>\n",
       "      <td>Hyundai Creta 1.6 CRDi SX Option</td>\n",
       "      <td>Pune</td>\n",
       "      <td>2015</td>\n",
       "      <td>41000</td>\n",
       "      <td>Diesel</td>\n",
       "      <td>Manual</td>\n",
       "      <td>First</td>\n",
       "      <td>19.67 kmpl</td>\n",
       "      <td>1582 CC</td>\n",
       "      <td>126.2 bhp</td>\n",
       "      <td>5.0</td>\n",
       "      <td>NaN</td>\n",
       "      <td>12.50</td>\n",
       "    </tr>\n",
       "    <tr>\n",
       "      <th>2</th>\n",
       "      <td>2</td>\n",
       "      <td>Honda Jazz V</td>\n",
       "      <td>Chennai</td>\n",
       "      <td>2011</td>\n",
       "      <td>46000</td>\n",
       "      <td>Petrol</td>\n",
       "      <td>Manual</td>\n",
       "      <td>First</td>\n",
       "      <td>18.2 kmpl</td>\n",
       "      <td>1199 CC</td>\n",
       "      <td>88.7 bhp</td>\n",
       "      <td>5.0</td>\n",
       "      <td>8.61 Lakh</td>\n",
       "      <td>4.50</td>\n",
       "    </tr>\n",
       "    <tr>\n",
       "      <th>3</th>\n",
       "      <td>3</td>\n",
       "      <td>Maruti Ertiga VDI</td>\n",
       "      <td>Chennai</td>\n",
       "      <td>2012</td>\n",
       "      <td>87000</td>\n",
       "      <td>Diesel</td>\n",
       "      <td>Manual</td>\n",
       "      <td>First</td>\n",
       "      <td>20.77 kmpl</td>\n",
       "      <td>1248 CC</td>\n",
       "      <td>88.76 bhp</td>\n",
       "      <td>7.0</td>\n",
       "      <td>NaN</td>\n",
       "      <td>6.00</td>\n",
       "    </tr>\n",
       "    <tr>\n",
       "      <th>4</th>\n",
       "      <td>4</td>\n",
       "      <td>Audi A4 New 2.0 TDI Multitronic</td>\n",
       "      <td>Coimbatore</td>\n",
       "      <td>2013</td>\n",
       "      <td>40670</td>\n",
       "      <td>Diesel</td>\n",
       "      <td>Automatic</td>\n",
       "      <td>Second</td>\n",
       "      <td>15.2 kmpl</td>\n",
       "      <td>1968 CC</td>\n",
       "      <td>140.8 bhp</td>\n",
       "      <td>5.0</td>\n",
       "      <td>NaN</td>\n",
       "      <td>17.74</td>\n",
       "    </tr>\n",
       "  </tbody>\n",
       "</table>\n",
       "</div>"
      ],
      "text/plain": [
       "   Unnamed: 0                              Name    Location  Year  \\\n",
       "0           0            Maruti Wagon R LXI CNG      Mumbai  2010   \n",
       "1           1  Hyundai Creta 1.6 CRDi SX Option        Pune  2015   \n",
       "2           2                      Honda Jazz V     Chennai  2011   \n",
       "3           3                 Maruti Ertiga VDI     Chennai  2012   \n",
       "4           4   Audi A4 New 2.0 TDI Multitronic  Coimbatore  2013   \n",
       "\n",
       "   Kilometers_Driven Fuel_Type Transmission Owner_Type     Mileage   Engine  \\\n",
       "0              72000       CNG       Manual      First  26.6 km/kg   998 CC   \n",
       "1              41000    Diesel       Manual      First  19.67 kmpl  1582 CC   \n",
       "2              46000    Petrol       Manual      First   18.2 kmpl  1199 CC   \n",
       "3              87000    Diesel       Manual      First  20.77 kmpl  1248 CC   \n",
       "4              40670    Diesel    Automatic     Second   15.2 kmpl  1968 CC   \n",
       "\n",
       "       Power  Seats  New_Price  Price  \n",
       "0  58.16 bhp    5.0        NaN   1.75  \n",
       "1  126.2 bhp    5.0        NaN  12.50  \n",
       "2   88.7 bhp    5.0  8.61 Lakh   4.50  \n",
       "3  88.76 bhp    7.0        NaN   6.00  \n",
       "4  140.8 bhp    5.0        NaN  17.74  "
      ]
     },
     "execution_count": 2,
     "metadata": {},
     "output_type": "execute_result"
    }
   ],
   "source": [
    "df=pd.read_csv('used cars regression.csv')\n",
    "df.head()"
   ]
  },
  {
   "cell_type": "code",
   "execution_count": 3,
   "id": "0e3ac1f0",
   "metadata": {},
   "outputs": [],
   "source": [
    "df.drop(['New_Price','Unnamed: 0'],axis=1,inplace=True)"
   ]
  },
  {
   "cell_type": "code",
   "execution_count": 4,
   "id": "2e2c079b",
   "metadata": {},
   "outputs": [
    {
     "data": {
      "text/html": [
       "<div>\n",
       "<style scoped>\n",
       "    .dataframe tbody tr th:only-of-type {\n",
       "        vertical-align: middle;\n",
       "    }\n",
       "\n",
       "    .dataframe tbody tr th {\n",
       "        vertical-align: top;\n",
       "    }\n",
       "\n",
       "    .dataframe thead th {\n",
       "        text-align: right;\n",
       "    }\n",
       "</style>\n",
       "<table border=\"1\" class=\"dataframe\">\n",
       "  <thead>\n",
       "    <tr style=\"text-align: right;\">\n",
       "      <th></th>\n",
       "      <th>Name</th>\n",
       "      <th>Location</th>\n",
       "      <th>Year</th>\n",
       "      <th>Kilometers_Driven</th>\n",
       "      <th>Fuel_Type</th>\n",
       "      <th>Transmission</th>\n",
       "      <th>Owner_Type</th>\n",
       "      <th>Mileage</th>\n",
       "      <th>Engine</th>\n",
       "      <th>Power</th>\n",
       "      <th>Seats</th>\n",
       "      <th>Price</th>\n",
       "    </tr>\n",
       "  </thead>\n",
       "  <tbody>\n",
       "    <tr>\n",
       "      <th>0</th>\n",
       "      <td>Maruti Wagon R LXI CNG</td>\n",
       "      <td>Mumbai</td>\n",
       "      <td>2010</td>\n",
       "      <td>72000</td>\n",
       "      <td>CNG</td>\n",
       "      <td>Manual</td>\n",
       "      <td>First</td>\n",
       "      <td>26.6 km/kg</td>\n",
       "      <td>998 CC</td>\n",
       "      <td>58.16 bhp</td>\n",
       "      <td>5.0</td>\n",
       "      <td>1.75</td>\n",
       "    </tr>\n",
       "    <tr>\n",
       "      <th>1</th>\n",
       "      <td>Hyundai Creta 1.6 CRDi SX Option</td>\n",
       "      <td>Pune</td>\n",
       "      <td>2015</td>\n",
       "      <td>41000</td>\n",
       "      <td>Diesel</td>\n",
       "      <td>Manual</td>\n",
       "      <td>First</td>\n",
       "      <td>19.67 kmpl</td>\n",
       "      <td>1582 CC</td>\n",
       "      <td>126.2 bhp</td>\n",
       "      <td>5.0</td>\n",
       "      <td>12.50</td>\n",
       "    </tr>\n",
       "    <tr>\n",
       "      <th>2</th>\n",
       "      <td>Honda Jazz V</td>\n",
       "      <td>Chennai</td>\n",
       "      <td>2011</td>\n",
       "      <td>46000</td>\n",
       "      <td>Petrol</td>\n",
       "      <td>Manual</td>\n",
       "      <td>First</td>\n",
       "      <td>18.2 kmpl</td>\n",
       "      <td>1199 CC</td>\n",
       "      <td>88.7 bhp</td>\n",
       "      <td>5.0</td>\n",
       "      <td>4.50</td>\n",
       "    </tr>\n",
       "    <tr>\n",
       "      <th>3</th>\n",
       "      <td>Maruti Ertiga VDI</td>\n",
       "      <td>Chennai</td>\n",
       "      <td>2012</td>\n",
       "      <td>87000</td>\n",
       "      <td>Diesel</td>\n",
       "      <td>Manual</td>\n",
       "      <td>First</td>\n",
       "      <td>20.77 kmpl</td>\n",
       "      <td>1248 CC</td>\n",
       "      <td>88.76 bhp</td>\n",
       "      <td>7.0</td>\n",
       "      <td>6.00</td>\n",
       "    </tr>\n",
       "    <tr>\n",
       "      <th>4</th>\n",
       "      <td>Audi A4 New 2.0 TDI Multitronic</td>\n",
       "      <td>Coimbatore</td>\n",
       "      <td>2013</td>\n",
       "      <td>40670</td>\n",
       "      <td>Diesel</td>\n",
       "      <td>Automatic</td>\n",
       "      <td>Second</td>\n",
       "      <td>15.2 kmpl</td>\n",
       "      <td>1968 CC</td>\n",
       "      <td>140.8 bhp</td>\n",
       "      <td>5.0</td>\n",
       "      <td>17.74</td>\n",
       "    </tr>\n",
       "  </tbody>\n",
       "</table>\n",
       "</div>"
      ],
      "text/plain": [
       "                               Name    Location  Year  Kilometers_Driven  \\\n",
       "0            Maruti Wagon R LXI CNG      Mumbai  2010              72000   \n",
       "1  Hyundai Creta 1.6 CRDi SX Option        Pune  2015              41000   \n",
       "2                      Honda Jazz V     Chennai  2011              46000   \n",
       "3                 Maruti Ertiga VDI     Chennai  2012              87000   \n",
       "4   Audi A4 New 2.0 TDI Multitronic  Coimbatore  2013              40670   \n",
       "\n",
       "  Fuel_Type Transmission Owner_Type     Mileage   Engine      Power  Seats  \\\n",
       "0       CNG       Manual      First  26.6 km/kg   998 CC  58.16 bhp    5.0   \n",
       "1    Diesel       Manual      First  19.67 kmpl  1582 CC  126.2 bhp    5.0   \n",
       "2    Petrol       Manual      First   18.2 kmpl  1199 CC   88.7 bhp    5.0   \n",
       "3    Diesel       Manual      First  20.77 kmpl  1248 CC  88.76 bhp    7.0   \n",
       "4    Diesel    Automatic     Second   15.2 kmpl  1968 CC  140.8 bhp    5.0   \n",
       "\n",
       "   Price  \n",
       "0   1.75  \n",
       "1  12.50  \n",
       "2   4.50  \n",
       "3   6.00  \n",
       "4  17.74  "
      ]
     },
     "execution_count": 4,
     "metadata": {},
     "output_type": "execute_result"
    }
   ],
   "source": [
    "df.head()"
   ]
  },
  {
   "cell_type": "code",
   "execution_count": 5,
   "id": "4b074431",
   "metadata": {},
   "outputs": [
    {
     "data": {
      "text/plain": [
       "array(['CNG', 'Diesel', 'Petrol', 'LPG', 'Electric'], dtype=object)"
      ]
     },
     "execution_count": 5,
     "metadata": {},
     "output_type": "execute_result"
    }
   ],
   "source": [
    "df['Fuel_Type'].unique()"
   ]
  },
  {
   "cell_type": "code",
   "execution_count": 7,
   "id": "cdc7c22e",
   "metadata": {},
   "outputs": [
    {
     "data": {
      "text/plain": [
       "array([1, 2, 4, 3], dtype=int64)"
      ]
     },
     "execution_count": 7,
     "metadata": {},
     "output_type": "execute_result"
    }
   ],
   "source": [
    "df['Owner_Type']=df['Owner_Type'].replace({'First':1, 'Second':2, 'Fourth & Above':4, 'Third':3})\n",
    "df['Owner_Type'].unique()"
   ]
  },
  {
   "cell_type": "code",
   "execution_count": 8,
   "id": "09ee6cb7",
   "metadata": {},
   "outputs": [
    {
     "data": {
      "text/plain": [
       "array([0, 1], dtype=int64)"
      ]
     },
     "execution_count": 8,
     "metadata": {},
     "output_type": "execute_result"
    }
   ],
   "source": [
    "df['Transmission'].replace({'Manual':0, 'Automatic':1},inplace=True)\n",
    "df['Transmission'].unique()"
   ]
  },
  {
   "cell_type": "code",
   "execution_count": 9,
   "id": "12cf2b21",
   "metadata": {},
   "outputs": [],
   "source": [
    "df['Engine'].replace(np.nan,'0 CC',inplace=True)"
   ]
  },
  {
   "cell_type": "code",
   "execution_count": 10,
   "id": "6f360448",
   "metadata": {
    "scrolled": false
   },
   "outputs": [
    {
     "data": {
      "text/plain": [
       "Name                  object\n",
       "Location              object\n",
       "Year                   int64\n",
       "Kilometers_Driven      int64\n",
       "Fuel_Type             object\n",
       "Transmission           int64\n",
       "Owner_Type             int64\n",
       "Mileage               object\n",
       "Engine                 int32\n",
       "Power                 object\n",
       "Seats                float64\n",
       "Price                float64\n",
       "dtype: object"
      ]
     },
     "execution_count": 10,
     "metadata": {},
     "output_type": "execute_result"
    }
   ],
   "source": [
    "arr=df['Engine'].str.split(expand=True).iloc[:,[0]]\n",
    "arr=arr.astype(int)\n",
    "df['Engine']=arr\n",
    "df.dtypes"
   ]
  },
  {
   "cell_type": "code",
   "execution_count": 11,
   "id": "1c19dbce",
   "metadata": {},
   "outputs": [],
   "source": [
    "df['Engine'].replace(0,np.nan,inplace=True)"
   ]
  },
  {
   "cell_type": "code",
   "execution_count": 12,
   "id": "da033f0f",
   "metadata": {
    "scrolled": true
   },
   "outputs": [],
   "source": [
    "df['Power'].replace('null bhp','0 bhp',inplace=True)\n",
    "arr1=df['Power'].str.split(expand=True).iloc[:,[0]]\n",
    "arr1=arr1.astype(float)\n",
    "df['Power']=arr1\n",
    "df['Power'].replace(0,np.nan,inplace=True)"
   ]
  },
  {
   "cell_type": "code",
   "execution_count": 13,
   "id": "1ee1b49f",
   "metadata": {
    "scrolled": true
   },
   "outputs": [
    {
     "data": {
      "text/plain": [
       "Name                  object\n",
       "Location              object\n",
       "Year                   int64\n",
       "Kilometers_Driven      int64\n",
       "Fuel_Type             object\n",
       "Transmission           int64\n",
       "Owner_Type             int64\n",
       "Mileage               object\n",
       "Engine               float64\n",
       "Power                float64\n",
       "Seats                float64\n",
       "Price                float64\n",
       "dtype: object"
      ]
     },
     "execution_count": 13,
     "metadata": {},
     "output_type": "execute_result"
    }
   ],
   "source": [
    "df.dtypes"
   ]
  },
  {
   "cell_type": "code",
   "execution_count": 14,
   "id": "6a61c94e",
   "metadata": {},
   "outputs": [],
   "source": [
    "df['Brands']=df['Name'].str.split(expand=True).iloc[:,0].replace('Isuzu','ISUZU')"
   ]
  },
  {
   "cell_type": "code",
   "execution_count": 15,
   "id": "604aea3f",
   "metadata": {},
   "outputs": [
    {
     "data": {
      "text/plain": [
       "array(['Maruti', 'Hyundai', 'Honda', 'Audi', 'Nissan', 'Toyota',\n",
       "       'Volkswagen', 'Tata', 'Land', 'Mitsubishi', 'Renault',\n",
       "       'Mercedes-Benz', 'BMW', 'Mahindra', 'Ford', 'Porsche', 'Datsun',\n",
       "       'Jaguar', 'Volvo', 'Chevrolet', 'Skoda', 'Mini', 'Fiat', 'Jeep',\n",
       "       'Smart', 'Ambassador', 'ISUZU', 'Force', 'Bentley', 'Lamborghini'],\n",
       "      dtype=object)"
      ]
     },
     "execution_count": 15,
     "metadata": {},
     "output_type": "execute_result"
    }
   ],
   "source": [
    "df['Brands'].unique()"
   ]
  },
  {
   "cell_type": "code",
   "execution_count": 16,
   "id": "3b4993db",
   "metadata": {},
   "outputs": [
    {
     "data": {
      "text/html": [
       "<div>\n",
       "<style scoped>\n",
       "    .dataframe tbody tr th:only-of-type {\n",
       "        vertical-align: middle;\n",
       "    }\n",
       "\n",
       "    .dataframe tbody tr th {\n",
       "        vertical-align: top;\n",
       "    }\n",
       "\n",
       "    .dataframe thead th {\n",
       "        text-align: right;\n",
       "    }\n",
       "</style>\n",
       "<table border=\"1\" class=\"dataframe\">\n",
       "  <thead>\n",
       "    <tr style=\"text-align: right;\">\n",
       "      <th></th>\n",
       "      <th>Name</th>\n",
       "      <th>Location</th>\n",
       "      <th>Year</th>\n",
       "      <th>Kilometers_Driven</th>\n",
       "      <th>Fuel_Type</th>\n",
       "      <th>Transmission</th>\n",
       "      <th>Owner_Type</th>\n",
       "      <th>Mileage</th>\n",
       "      <th>Engine</th>\n",
       "      <th>Power</th>\n",
       "      <th>Seats</th>\n",
       "      <th>Price</th>\n",
       "      <th>Brands</th>\n",
       "    </tr>\n",
       "  </thead>\n",
       "  <tbody>\n",
       "    <tr>\n",
       "      <th>13</th>\n",
       "      <td>Land Rover Range Rover 2.2L Pure</td>\n",
       "      <td>Delhi</td>\n",
       "      <td>2014</td>\n",
       "      <td>72000</td>\n",
       "      <td>Diesel</td>\n",
       "      <td>1</td>\n",
       "      <td>1</td>\n",
       "      <td>12.7 kmpl</td>\n",
       "      <td>2179.0</td>\n",
       "      <td>187.70</td>\n",
       "      <td>5.0</td>\n",
       "      <td>27.00</td>\n",
       "      <td>Land</td>\n",
       "    </tr>\n",
       "    <tr>\n",
       "      <th>14</th>\n",
       "      <td>Land Rover Freelander 2 TD4 SE</td>\n",
       "      <td>Pune</td>\n",
       "      <td>2012</td>\n",
       "      <td>85000</td>\n",
       "      <td>Diesel</td>\n",
       "      <td>1</td>\n",
       "      <td>2</td>\n",
       "      <td>0.0 kmpl</td>\n",
       "      <td>2179.0</td>\n",
       "      <td>115.00</td>\n",
       "      <td>5.0</td>\n",
       "      <td>17.50</td>\n",
       "      <td>Land</td>\n",
       "    </tr>\n",
       "    <tr>\n",
       "      <th>191</th>\n",
       "      <td>Land Rover Range Rover 2.2L Dynamic</td>\n",
       "      <td>Coimbatore</td>\n",
       "      <td>2018</td>\n",
       "      <td>36091</td>\n",
       "      <td>Diesel</td>\n",
       "      <td>1</td>\n",
       "      <td>1</td>\n",
       "      <td>12.7 kmpl</td>\n",
       "      <td>2179.0</td>\n",
       "      <td>187.70</td>\n",
       "      <td>5.0</td>\n",
       "      <td>55.76</td>\n",
       "      <td>Land</td>\n",
       "    </tr>\n",
       "    <tr>\n",
       "      <th>311</th>\n",
       "      <td>Land Rover Range Rover HSE Dynamic</td>\n",
       "      <td>Delhi</td>\n",
       "      <td>2017</td>\n",
       "      <td>44000</td>\n",
       "      <td>Diesel</td>\n",
       "      <td>1</td>\n",
       "      <td>1</td>\n",
       "      <td>12.7 kmpl</td>\n",
       "      <td>2179.0</td>\n",
       "      <td>187.70</td>\n",
       "      <td>5.0</td>\n",
       "      <td>44.00</td>\n",
       "      <td>Land</td>\n",
       "    </tr>\n",
       "    <tr>\n",
       "      <th>399</th>\n",
       "      <td>Land Rover Range Rover 2.2L Dynamic</td>\n",
       "      <td>Hyderabad</td>\n",
       "      <td>2012</td>\n",
       "      <td>56000</td>\n",
       "      <td>Diesel</td>\n",
       "      <td>1</td>\n",
       "      <td>1</td>\n",
       "      <td>12.7 kmpl</td>\n",
       "      <td>2179.0</td>\n",
       "      <td>187.70</td>\n",
       "      <td>5.0</td>\n",
       "      <td>30.00</td>\n",
       "      <td>Land</td>\n",
       "    </tr>\n",
       "    <tr>\n",
       "      <th>404</th>\n",
       "      <td>Land Rover Range Rover 2.2L Prestige</td>\n",
       "      <td>Coimbatore</td>\n",
       "      <td>2017</td>\n",
       "      <td>34990</td>\n",
       "      <td>Diesel</td>\n",
       "      <td>1</td>\n",
       "      <td>1</td>\n",
       "      <td>12.7 kmpl</td>\n",
       "      <td>2179.0</td>\n",
       "      <td>187.70</td>\n",
       "      <td>5.0</td>\n",
       "      <td>53.83</td>\n",
       "      <td>Land</td>\n",
       "    </tr>\n",
       "    <tr>\n",
       "      <th>410</th>\n",
       "      <td>Land Rover Range Rover 2.2L Pure</td>\n",
       "      <td>Coimbatore</td>\n",
       "      <td>2014</td>\n",
       "      <td>95649</td>\n",
       "      <td>Diesel</td>\n",
       "      <td>1</td>\n",
       "      <td>1</td>\n",
       "      <td>12.7 kmpl</td>\n",
       "      <td>2179.0</td>\n",
       "      <td>187.70</td>\n",
       "      <td>5.0</td>\n",
       "      <td>29.67</td>\n",
       "      <td>Land</td>\n",
       "    </tr>\n",
       "    <tr>\n",
       "      <th>480</th>\n",
       "      <td>Land Rover Range Rover Evoque 2.0 TD4 Pure</td>\n",
       "      <td>Delhi</td>\n",
       "      <td>2015</td>\n",
       "      <td>24000</td>\n",
       "      <td>Diesel</td>\n",
       "      <td>1</td>\n",
       "      <td>2</td>\n",
       "      <td>15.68 kmpl</td>\n",
       "      <td>1999.0</td>\n",
       "      <td>177.00</td>\n",
       "      <td>5.0</td>\n",
       "      <td>33.50</td>\n",
       "      <td>Land</td>\n",
       "    </tr>\n",
       "    <tr>\n",
       "      <th>521</th>\n",
       "      <td>Land Rover Range Rover HSE Dynamic</td>\n",
       "      <td>Coimbatore</td>\n",
       "      <td>2017</td>\n",
       "      <td>49275</td>\n",
       "      <td>Diesel</td>\n",
       "      <td>1</td>\n",
       "      <td>1</td>\n",
       "      <td>12.7 kmpl</td>\n",
       "      <td>2179.0</td>\n",
       "      <td>187.70</td>\n",
       "      <td>5.0</td>\n",
       "      <td>45.64</td>\n",
       "      <td>Land</td>\n",
       "    </tr>\n",
       "    <tr>\n",
       "      <th>701</th>\n",
       "      <td>Land Rover Freelander 2 SE</td>\n",
       "      <td>Chennai</td>\n",
       "      <td>2011</td>\n",
       "      <td>109000</td>\n",
       "      <td>Diesel</td>\n",
       "      <td>1</td>\n",
       "      <td>1</td>\n",
       "      <td>12.39 kmpl</td>\n",
       "      <td>2179.0</td>\n",
       "      <td>147.51</td>\n",
       "      <td>5.0</td>\n",
       "      <td>16.50</td>\n",
       "      <td>Land</td>\n",
       "    </tr>\n",
       "    <tr>\n",
       "      <th>749</th>\n",
       "      <td>Land Rover Range Rover 3.0 D</td>\n",
       "      <td>Mumbai</td>\n",
       "      <td>2008</td>\n",
       "      <td>55001</td>\n",
       "      <td>Diesel</td>\n",
       "      <td>1</td>\n",
       "      <td>2</td>\n",
       "      <td>0.0 kmpl</td>\n",
       "      <td>NaN</td>\n",
       "      <td>NaN</td>\n",
       "      <td>NaN</td>\n",
       "      <td>26.50</td>\n",
       "      <td>Land</td>\n",
       "    </tr>\n",
       "    <tr>\n",
       "      <th>941</th>\n",
       "      <td>Land Rover Range Rover Evoque 2.0 TD4 HSE Dynamic</td>\n",
       "      <td>Kochi</td>\n",
       "      <td>2018</td>\n",
       "      <td>31427</td>\n",
       "      <td>Diesel</td>\n",
       "      <td>1</td>\n",
       "      <td>1</td>\n",
       "      <td>15.68 kmpl</td>\n",
       "      <td>1999.0</td>\n",
       "      <td>177.00</td>\n",
       "      <td>5.0</td>\n",
       "      <td>59.72</td>\n",
       "      <td>Land</td>\n",
       "    </tr>\n",
       "    <tr>\n",
       "      <th>1038</th>\n",
       "      <td>Land Rover Range Rover TDV8 (Diesel)</td>\n",
       "      <td>Bangalore</td>\n",
       "      <td>2011</td>\n",
       "      <td>55000</td>\n",
       "      <td>Diesel</td>\n",
       "      <td>1</td>\n",
       "      <td>1</td>\n",
       "      <td>10.2 kmpl</td>\n",
       "      <td>4367.0</td>\n",
       "      <td>308.00</td>\n",
       "      <td>7.0</td>\n",
       "      <td>67.00</td>\n",
       "      <td>Land</td>\n",
       "    </tr>\n",
       "    <tr>\n",
       "      <th>1204</th>\n",
       "      <td>Land Rover Freelander 2 HSE</td>\n",
       "      <td>Hyderabad</td>\n",
       "      <td>2012</td>\n",
       "      <td>96000</td>\n",
       "      <td>Diesel</td>\n",
       "      <td>1</td>\n",
       "      <td>1</td>\n",
       "      <td>12.35 kmpl</td>\n",
       "      <td>2179.0</td>\n",
       "      <td>187.74</td>\n",
       "      <td>5.0</td>\n",
       "      <td>18.98</td>\n",
       "      <td>Land</td>\n",
       "    </tr>\n",
       "    <tr>\n",
       "      <th>1259</th>\n",
       "      <td>Land Rover Freelander 2 TD4 S</td>\n",
       "      <td>Bangalore</td>\n",
       "      <td>2010</td>\n",
       "      <td>125000</td>\n",
       "      <td>Diesel</td>\n",
       "      <td>1</td>\n",
       "      <td>2</td>\n",
       "      <td>0.0 kmpl</td>\n",
       "      <td>2179.0</td>\n",
       "      <td>115.00</td>\n",
       "      <td>5.0</td>\n",
       "      <td>11.00</td>\n",
       "      <td>Land</td>\n",
       "    </tr>\n",
       "    <tr>\n",
       "      <th>1299</th>\n",
       "      <td>Land Rover Discovery 4 TDV6 SE</td>\n",
       "      <td>Delhi</td>\n",
       "      <td>2013</td>\n",
       "      <td>65000</td>\n",
       "      <td>Diesel</td>\n",
       "      <td>1</td>\n",
       "      <td>2</td>\n",
       "      <td>11.8 kmpl</td>\n",
       "      <td>2993.0</td>\n",
       "      <td>180.00</td>\n",
       "      <td>7.0</td>\n",
       "      <td>34.00</td>\n",
       "      <td>Land</td>\n",
       "    </tr>\n",
       "    <tr>\n",
       "      <th>1352</th>\n",
       "      <td>Land Rover Range Rover 3.6 TDV8 Vogue SE Diesel</td>\n",
       "      <td>Bangalore</td>\n",
       "      <td>2012</td>\n",
       "      <td>66538</td>\n",
       "      <td>Diesel</td>\n",
       "      <td>1</td>\n",
       "      <td>1</td>\n",
       "      <td>10.2 kmpl</td>\n",
       "      <td>4367.0</td>\n",
       "      <td>308.00</td>\n",
       "      <td>7.0</td>\n",
       "      <td>70.00</td>\n",
       "      <td>Land</td>\n",
       "    </tr>\n",
       "    <tr>\n",
       "      <th>1460</th>\n",
       "      <td>Land Rover Range Rover Sport 2005 2012 Sport</td>\n",
       "      <td>Coimbatore</td>\n",
       "      <td>2008</td>\n",
       "      <td>69078</td>\n",
       "      <td>Petrol</td>\n",
       "      <td>0</td>\n",
       "      <td>1</td>\n",
       "      <td>0.0 kmpl</td>\n",
       "      <td>NaN</td>\n",
       "      <td>NaN</td>\n",
       "      <td>NaN</td>\n",
       "      <td>40.88</td>\n",
       "      <td>Land</td>\n",
       "    </tr>\n",
       "    <tr>\n",
       "      <th>1505</th>\n",
       "      <td>Land Rover Range Rover Sport SE</td>\n",
       "      <td>Kochi</td>\n",
       "      <td>2019</td>\n",
       "      <td>26013</td>\n",
       "      <td>Diesel</td>\n",
       "      <td>1</td>\n",
       "      <td>1</td>\n",
       "      <td>12.65 kmpl</td>\n",
       "      <td>2993.0</td>\n",
       "      <td>255.00</td>\n",
       "      <td>5.0</td>\n",
       "      <td>97.07</td>\n",
       "      <td>Land</td>\n",
       "    </tr>\n",
       "    <tr>\n",
       "      <th>1513</th>\n",
       "      <td>Land Rover Range Rover 2.2L Pure</td>\n",
       "      <td>Bangalore</td>\n",
       "      <td>2014</td>\n",
       "      <td>56000</td>\n",
       "      <td>Diesel</td>\n",
       "      <td>1</td>\n",
       "      <td>1</td>\n",
       "      <td>12.7 kmpl</td>\n",
       "      <td>2179.0</td>\n",
       "      <td>187.70</td>\n",
       "      <td>5.0</td>\n",
       "      <td>34.50</td>\n",
       "      <td>Land</td>\n",
       "    </tr>\n",
       "    <tr>\n",
       "      <th>1568</th>\n",
       "      <td>Land Rover Discovery Sport TD4 HSE 7S</td>\n",
       "      <td>Mumbai</td>\n",
       "      <td>2017</td>\n",
       "      <td>40000</td>\n",
       "      <td>Diesel</td>\n",
       "      <td>1</td>\n",
       "      <td>1</td>\n",
       "      <td>12.81 kmpl</td>\n",
       "      <td>1999.0</td>\n",
       "      <td>148.31</td>\n",
       "      <td>7.0</td>\n",
       "      <td>41.50</td>\n",
       "      <td>Land</td>\n",
       "    </tr>\n",
       "    <tr>\n",
       "      <th>1988</th>\n",
       "      <td>Land Rover Freelander 2 SE</td>\n",
       "      <td>Mumbai</td>\n",
       "      <td>2012</td>\n",
       "      <td>34000</td>\n",
       "      <td>Diesel</td>\n",
       "      <td>1</td>\n",
       "      <td>1</td>\n",
       "      <td>12.39 kmpl</td>\n",
       "      <td>2179.0</td>\n",
       "      <td>147.51</td>\n",
       "      <td>5.0</td>\n",
       "      <td>19.25</td>\n",
       "      <td>Land</td>\n",
       "    </tr>\n",
       "    <tr>\n",
       "      <th>2139</th>\n",
       "      <td>Land Rover Range Rover Evoque 2.0 TD4 Pure</td>\n",
       "      <td>Kochi</td>\n",
       "      <td>2016</td>\n",
       "      <td>29022</td>\n",
       "      <td>Diesel</td>\n",
       "      <td>1</td>\n",
       "      <td>2</td>\n",
       "      <td>15.68 kmpl</td>\n",
       "      <td>1999.0</td>\n",
       "      <td>177.00</td>\n",
       "      <td>5.0</td>\n",
       "      <td>34.08</td>\n",
       "      <td>Land</td>\n",
       "    </tr>\n",
       "    <tr>\n",
       "      <th>2178</th>\n",
       "      <td>Land Rover Discovery HSE Luxury 3.0 TD6</td>\n",
       "      <td>Mumbai</td>\n",
       "      <td>2017</td>\n",
       "      <td>35000</td>\n",
       "      <td>Diesel</td>\n",
       "      <td>1</td>\n",
       "      <td>1</td>\n",
       "      <td>18.0 kmpl</td>\n",
       "      <td>2993.0</td>\n",
       "      <td>255.00</td>\n",
       "      <td>7.0</td>\n",
       "      <td>41.60</td>\n",
       "      <td>Land</td>\n",
       "    </tr>\n",
       "    <tr>\n",
       "      <th>2263</th>\n",
       "      <td>Land Rover Range Rover 2.2L Prestige</td>\n",
       "      <td>Coimbatore</td>\n",
       "      <td>2014</td>\n",
       "      <td>64557</td>\n",
       "      <td>Diesel</td>\n",
       "      <td>1</td>\n",
       "      <td>2</td>\n",
       "      <td>12.7 kmpl</td>\n",
       "      <td>2179.0</td>\n",
       "      <td>187.70</td>\n",
       "      <td>5.0</td>\n",
       "      <td>29.93</td>\n",
       "      <td>Land</td>\n",
       "    </tr>\n",
       "    <tr>\n",
       "      <th>2306</th>\n",
       "      <td>Land Rover Range Rover Sport 2005 2012 HSE</td>\n",
       "      <td>Hyderabad</td>\n",
       "      <td>2010</td>\n",
       "      <td>45000</td>\n",
       "      <td>Diesel</td>\n",
       "      <td>1</td>\n",
       "      <td>1</td>\n",
       "      <td>14.7 kmpl</td>\n",
       "      <td>2993.0</td>\n",
       "      <td>241.40</td>\n",
       "      <td>6.0</td>\n",
       "      <td>40.00</td>\n",
       "      <td>Land</td>\n",
       "    </tr>\n",
       "    <tr>\n",
       "      <th>2528</th>\n",
       "      <td>Land Rover Discovery SE 3.0 TD6</td>\n",
       "      <td>Delhi</td>\n",
       "      <td>2016</td>\n",
       "      <td>59000</td>\n",
       "      <td>Diesel</td>\n",
       "      <td>1</td>\n",
       "      <td>1</td>\n",
       "      <td>18.0 kmpl</td>\n",
       "      <td>2993.0</td>\n",
       "      <td>255.00</td>\n",
       "      <td>7.0</td>\n",
       "      <td>36.75</td>\n",
       "      <td>Land</td>\n",
       "    </tr>\n",
       "    <tr>\n",
       "      <th>2924</th>\n",
       "      <td>Land Rover Range Rover HSE Dynamic</td>\n",
       "      <td>Kochi</td>\n",
       "      <td>2018</td>\n",
       "      <td>41661</td>\n",
       "      <td>Diesel</td>\n",
       "      <td>1</td>\n",
       "      <td>1</td>\n",
       "      <td>12.7 kmpl</td>\n",
       "      <td>2179.0</td>\n",
       "      <td>187.70</td>\n",
       "      <td>5.0</td>\n",
       "      <td>44.83</td>\n",
       "      <td>Land</td>\n",
       "    </tr>\n",
       "    <tr>\n",
       "      <th>3043</th>\n",
       "      <td>Land Rover Discovery Sport TD4 HSE</td>\n",
       "      <td>Coimbatore</td>\n",
       "      <td>2019</td>\n",
       "      <td>25899</td>\n",
       "      <td>Diesel</td>\n",
       "      <td>1</td>\n",
       "      <td>1</td>\n",
       "      <td>12.63 kmpl</td>\n",
       "      <td>2179.0</td>\n",
       "      <td>147.50</td>\n",
       "      <td>5.0</td>\n",
       "      <td>55.70</td>\n",
       "      <td>Land</td>\n",
       "    </tr>\n",
       "    <tr>\n",
       "      <th>3218</th>\n",
       "      <td>Land Rover Range Rover 2.2L Dynamic</td>\n",
       "      <td>Pune</td>\n",
       "      <td>2015</td>\n",
       "      <td>52000</td>\n",
       "      <td>Diesel</td>\n",
       "      <td>1</td>\n",
       "      <td>1</td>\n",
       "      <td>12.7 kmpl</td>\n",
       "      <td>2179.0</td>\n",
       "      <td>187.70</td>\n",
       "      <td>5.0</td>\n",
       "      <td>39.75</td>\n",
       "      <td>Land</td>\n",
       "    </tr>\n",
       "    <tr>\n",
       "      <th>3242</th>\n",
       "      <td>Land Rover Range Rover Vogue SE 4.4 SDV8</td>\n",
       "      <td>Bangalore</td>\n",
       "      <td>2012</td>\n",
       "      <td>63000</td>\n",
       "      <td>Diesel</td>\n",
       "      <td>1</td>\n",
       "      <td>2</td>\n",
       "      <td>11.49 kmpl</td>\n",
       "      <td>4367.0</td>\n",
       "      <td>335.30</td>\n",
       "      <td>5.0</td>\n",
       "      <td>65.00</td>\n",
       "      <td>Land</td>\n",
       "    </tr>\n",
       "    <tr>\n",
       "      <th>3410</th>\n",
       "      <td>Land Rover Freelander 2 HSE SD4</td>\n",
       "      <td>Ahmedabad</td>\n",
       "      <td>2012</td>\n",
       "      <td>60000</td>\n",
       "      <td>Diesel</td>\n",
       "      <td>1</td>\n",
       "      <td>2</td>\n",
       "      <td>12.35 kmpl</td>\n",
       "      <td>2179.0</td>\n",
       "      <td>187.74</td>\n",
       "      <td>5.0</td>\n",
       "      <td>23.50</td>\n",
       "      <td>Land</td>\n",
       "    </tr>\n",
       "    <tr>\n",
       "      <th>3540</th>\n",
       "      <td>Land Rover Discovery Sport SD4 HSE Luxury 7S</td>\n",
       "      <td>Hyderabad</td>\n",
       "      <td>2016</td>\n",
       "      <td>62000</td>\n",
       "      <td>Diesel</td>\n",
       "      <td>1</td>\n",
       "      <td>1</td>\n",
       "      <td>12.51 kmpl</td>\n",
       "      <td>2179.0</td>\n",
       "      <td>187.70</td>\n",
       "      <td>7.0</td>\n",
       "      <td>44.50</td>\n",
       "      <td>Land</td>\n",
       "    </tr>\n",
       "    <tr>\n",
       "      <th>3752</th>\n",
       "      <td>Land Rover Range Rover Sport HSE</td>\n",
       "      <td>Kochi</td>\n",
       "      <td>2015</td>\n",
       "      <td>38467</td>\n",
       "      <td>Diesel</td>\n",
       "      <td>1</td>\n",
       "      <td>1</td>\n",
       "      <td>12.65 kmpl</td>\n",
       "      <td>2993.0</td>\n",
       "      <td>255.00</td>\n",
       "      <td>5.0</td>\n",
       "      <td>70.66</td>\n",
       "      <td>Land</td>\n",
       "    </tr>\n",
       "    <tr>\n",
       "      <th>3839</th>\n",
       "      <td>Land Rover Discovery 3 TDV6 Diesel Automatic</td>\n",
       "      <td>Pune</td>\n",
       "      <td>2012</td>\n",
       "      <td>117236</td>\n",
       "      <td>Diesel</td>\n",
       "      <td>1</td>\n",
       "      <td>2</td>\n",
       "      <td>11.8 kmpl</td>\n",
       "      <td>2720.0</td>\n",
       "      <td>190.00</td>\n",
       "      <td>7.0</td>\n",
       "      <td>14.00</td>\n",
       "      <td>Land</td>\n",
       "    </tr>\n",
       "    <tr>\n",
       "      <th>4058</th>\n",
       "      <td>Land Rover Discovery Sport TD4 HSE</td>\n",
       "      <td>Delhi</td>\n",
       "      <td>2016</td>\n",
       "      <td>77000</td>\n",
       "      <td>Diesel</td>\n",
       "      <td>1</td>\n",
       "      <td>1</td>\n",
       "      <td>12.63 kmpl</td>\n",
       "      <td>2179.0</td>\n",
       "      <td>147.50</td>\n",
       "      <td>5.0</td>\n",
       "      <td>35.00</td>\n",
       "      <td>Land</td>\n",
       "    </tr>\n",
       "    <tr>\n",
       "      <th>4079</th>\n",
       "      <td>Land Rover Range Rover 3.0 Diesel LWB Vogue</td>\n",
       "      <td>Hyderabad</td>\n",
       "      <td>2017</td>\n",
       "      <td>25000</td>\n",
       "      <td>Diesel</td>\n",
       "      <td>1</td>\n",
       "      <td>1</td>\n",
       "      <td>13.33 kmpl</td>\n",
       "      <td>2993.0</td>\n",
       "      <td>255.00</td>\n",
       "      <td>5.0</td>\n",
       "      <td>160.00</td>\n",
       "      <td>Land</td>\n",
       "    </tr>\n",
       "    <tr>\n",
       "      <th>4152</th>\n",
       "      <td>Land Rover Range Rover 3.0 D</td>\n",
       "      <td>Mumbai</td>\n",
       "      <td>2003</td>\n",
       "      <td>75000</td>\n",
       "      <td>Diesel</td>\n",
       "      <td>1</td>\n",
       "      <td>2</td>\n",
       "      <td>0.0 kmpl</td>\n",
       "      <td>NaN</td>\n",
       "      <td>NaN</td>\n",
       "      <td>NaN</td>\n",
       "      <td>16.11</td>\n",
       "      <td>Land</td>\n",
       "    </tr>\n",
       "    <tr>\n",
       "      <th>4247</th>\n",
       "      <td>Land Rover Freelander 2 SE</td>\n",
       "      <td>Ahmedabad</td>\n",
       "      <td>2012</td>\n",
       "      <td>75000</td>\n",
       "      <td>Diesel</td>\n",
       "      <td>1</td>\n",
       "      <td>2</td>\n",
       "      <td>12.39 kmpl</td>\n",
       "      <td>2179.0</td>\n",
       "      <td>147.51</td>\n",
       "      <td>5.0</td>\n",
       "      <td>17.50</td>\n",
       "      <td>Land</td>\n",
       "    </tr>\n",
       "    <tr>\n",
       "      <th>4466</th>\n",
       "      <td>Land Rover Freelander 2 SE</td>\n",
       "      <td>Kochi</td>\n",
       "      <td>2014</td>\n",
       "      <td>61730</td>\n",
       "      <td>Diesel</td>\n",
       "      <td>1</td>\n",
       "      <td>1</td>\n",
       "      <td>12.39 kmpl</td>\n",
       "      <td>2179.0</td>\n",
       "      <td>147.51</td>\n",
       "      <td>5.0</td>\n",
       "      <td>19.94</td>\n",
       "      <td>Land</td>\n",
       "    </tr>\n",
       "    <tr>\n",
       "      <th>4630</th>\n",
       "      <td>Land Rover Freelander 2 HSE</td>\n",
       "      <td>Mumbai</td>\n",
       "      <td>2011</td>\n",
       "      <td>82000</td>\n",
       "      <td>Diesel</td>\n",
       "      <td>1</td>\n",
       "      <td>2</td>\n",
       "      <td>12.35 kmpl</td>\n",
       "      <td>2179.0</td>\n",
       "      <td>187.74</td>\n",
       "      <td>5.0</td>\n",
       "      <td>13.90</td>\n",
       "      <td>Land</td>\n",
       "    </tr>\n",
       "    <tr>\n",
       "      <th>4687</th>\n",
       "      <td>Land Rover Freelander 2 TD4 SE</td>\n",
       "      <td>Jaipur</td>\n",
       "      <td>2012</td>\n",
       "      <td>119203</td>\n",
       "      <td>Diesel</td>\n",
       "      <td>1</td>\n",
       "      <td>1</td>\n",
       "      <td>0.0 kmpl</td>\n",
       "      <td>2179.0</td>\n",
       "      <td>115.00</td>\n",
       "      <td>5.0</td>\n",
       "      <td>16.50</td>\n",
       "      <td>Land</td>\n",
       "    </tr>\n",
       "    <tr>\n",
       "      <th>4701</th>\n",
       "      <td>Land Rover Freelander 2 SE</td>\n",
       "      <td>Pune</td>\n",
       "      <td>2014</td>\n",
       "      <td>85000</td>\n",
       "      <td>Diesel</td>\n",
       "      <td>1</td>\n",
       "      <td>2</td>\n",
       "      <td>12.39 kmpl</td>\n",
       "      <td>2179.0</td>\n",
       "      <td>147.51</td>\n",
       "      <td>5.0</td>\n",
       "      <td>23.00</td>\n",
       "      <td>Land</td>\n",
       "    </tr>\n",
       "    <tr>\n",
       "      <th>4755</th>\n",
       "      <td>Land Rover Range Rover Evoque 2.0 TD4 HSE Dynamic</td>\n",
       "      <td>Hyderabad</td>\n",
       "      <td>2016</td>\n",
       "      <td>52000</td>\n",
       "      <td>Diesel</td>\n",
       "      <td>1</td>\n",
       "      <td>1</td>\n",
       "      <td>15.68 kmpl</td>\n",
       "      <td>1999.0</td>\n",
       "      <td>177.00</td>\n",
       "      <td>5.0</td>\n",
       "      <td>42.00</td>\n",
       "      <td>Land</td>\n",
       "    </tr>\n",
       "    <tr>\n",
       "      <th>4801</th>\n",
       "      <td>Land Rover Freelander 2 SE</td>\n",
       "      <td>Hyderabad</td>\n",
       "      <td>2011</td>\n",
       "      <td>68000</td>\n",
       "      <td>Diesel</td>\n",
       "      <td>1</td>\n",
       "      <td>1</td>\n",
       "      <td>12.39 kmpl</td>\n",
       "      <td>2179.0</td>\n",
       "      <td>147.51</td>\n",
       "      <td>5.0</td>\n",
       "      <td>22.00</td>\n",
       "      <td>Land</td>\n",
       "    </tr>\n",
       "    <tr>\n",
       "      <th>4814</th>\n",
       "      <td>Land Rover Freelander 2 SE</td>\n",
       "      <td>Delhi</td>\n",
       "      <td>2013</td>\n",
       "      <td>68000</td>\n",
       "      <td>Diesel</td>\n",
       "      <td>1</td>\n",
       "      <td>2</td>\n",
       "      <td>12.39 kmpl</td>\n",
       "      <td>2179.0</td>\n",
       "      <td>147.51</td>\n",
       "      <td>5.0</td>\n",
       "      <td>15.75</td>\n",
       "      <td>Land</td>\n",
       "    </tr>\n",
       "    <tr>\n",
       "      <th>4869</th>\n",
       "      <td>Land Rover Range Rover 3.6 TDV8 Vogue SE</td>\n",
       "      <td>Coimbatore</td>\n",
       "      <td>2012</td>\n",
       "      <td>84384</td>\n",
       "      <td>Diesel</td>\n",
       "      <td>1</td>\n",
       "      <td>1</td>\n",
       "      <td>10.2 kmpl</td>\n",
       "      <td>4367.0</td>\n",
       "      <td>308.00</td>\n",
       "      <td>7.0</td>\n",
       "      <td>52.54</td>\n",
       "      <td>Land</td>\n",
       "    </tr>\n",
       "    <tr>\n",
       "      <th>4925</th>\n",
       "      <td>Land Rover Discovery Sport TD4 S</td>\n",
       "      <td>Delhi</td>\n",
       "      <td>2017</td>\n",
       "      <td>22000</td>\n",
       "      <td>Diesel</td>\n",
       "      <td>1</td>\n",
       "      <td>1</td>\n",
       "      <td>12.83 kmpl</td>\n",
       "      <td>2179.0</td>\n",
       "      <td>147.50</td>\n",
       "      <td>5.0</td>\n",
       "      <td>35.00</td>\n",
       "      <td>Land</td>\n",
       "    </tr>\n",
       "    <tr>\n",
       "      <th>5016</th>\n",
       "      <td>Land Rover Freelander 2 TD4 HSE</td>\n",
       "      <td>Delhi</td>\n",
       "      <td>2013</td>\n",
       "      <td>72000</td>\n",
       "      <td>Diesel</td>\n",
       "      <td>1</td>\n",
       "      <td>1</td>\n",
       "      <td>0.0 kmpl</td>\n",
       "      <td>2179.0</td>\n",
       "      <td>115.00</td>\n",
       "      <td>5.0</td>\n",
       "      <td>15.50</td>\n",
       "      <td>Land</td>\n",
       "    </tr>\n",
       "    <tr>\n",
       "      <th>5022</th>\n",
       "      <td>Land Rover Freelander 2 TD4 SE</td>\n",
       "      <td>Hyderabad</td>\n",
       "      <td>2013</td>\n",
       "      <td>46000</td>\n",
       "      <td>Diesel</td>\n",
       "      <td>1</td>\n",
       "      <td>2</td>\n",
       "      <td>0.0 kmpl</td>\n",
       "      <td>2179.0</td>\n",
       "      <td>115.00</td>\n",
       "      <td>5.0</td>\n",
       "      <td>26.00</td>\n",
       "      <td>Land</td>\n",
       "    </tr>\n",
       "    <tr>\n",
       "      <th>5038</th>\n",
       "      <td>Land Rover Discovery Sport TD4 HSE 7S</td>\n",
       "      <td>Coimbatore</td>\n",
       "      <td>2019</td>\n",
       "      <td>24013</td>\n",
       "      <td>Diesel</td>\n",
       "      <td>1</td>\n",
       "      <td>1</td>\n",
       "      <td>12.81 kmpl</td>\n",
       "      <td>1999.0</td>\n",
       "      <td>148.31</td>\n",
       "      <td>7.0</td>\n",
       "      <td>56.14</td>\n",
       "      <td>Land</td>\n",
       "    </tr>\n",
       "    <tr>\n",
       "      <th>5067</th>\n",
       "      <td>Land Rover Discovery Sport SD4 HSE Luxury 7S</td>\n",
       "      <td>Coimbatore</td>\n",
       "      <td>2019</td>\n",
       "      <td>17201</td>\n",
       "      <td>Diesel</td>\n",
       "      <td>1</td>\n",
       "      <td>1</td>\n",
       "      <td>12.51 kmpl</td>\n",
       "      <td>2179.0</td>\n",
       "      <td>187.70</td>\n",
       "      <td>7.0</td>\n",
       "      <td>58.91</td>\n",
       "      <td>Land</td>\n",
       "    </tr>\n",
       "    <tr>\n",
       "      <th>5311</th>\n",
       "      <td>Land Rover Freelander 2 TD4 SE</td>\n",
       "      <td>Hyderabad</td>\n",
       "      <td>2012</td>\n",
       "      <td>139000</td>\n",
       "      <td>Diesel</td>\n",
       "      <td>1</td>\n",
       "      <td>1</td>\n",
       "      <td>0.0 kmpl</td>\n",
       "      <td>2179.0</td>\n",
       "      <td>115.00</td>\n",
       "      <td>5.0</td>\n",
       "      <td>16.75</td>\n",
       "      <td>Land</td>\n",
       "    </tr>\n",
       "    <tr>\n",
       "      <th>5382</th>\n",
       "      <td>Land Rover Range Rover 2.2L Prestige</td>\n",
       "      <td>Delhi</td>\n",
       "      <td>2015</td>\n",
       "      <td>37000</td>\n",
       "      <td>Diesel</td>\n",
       "      <td>1</td>\n",
       "      <td>1</td>\n",
       "      <td>12.7 kmpl</td>\n",
       "      <td>2179.0</td>\n",
       "      <td>187.70</td>\n",
       "      <td>5.0</td>\n",
       "      <td>36.00</td>\n",
       "      <td>Land</td>\n",
       "    </tr>\n",
       "    <tr>\n",
       "      <th>5411</th>\n",
       "      <td>Land Rover Range Rover 2.2L Pure</td>\n",
       "      <td>Delhi</td>\n",
       "      <td>2014</td>\n",
       "      <td>38999</td>\n",
       "      <td>Diesel</td>\n",
       "      <td>1</td>\n",
       "      <td>1</td>\n",
       "      <td>12.7 kmpl</td>\n",
       "      <td>2179.0</td>\n",
       "      <td>187.70</td>\n",
       "      <td>5.0</td>\n",
       "      <td>32.50</td>\n",
       "      <td>Land</td>\n",
       "    </tr>\n",
       "    <tr>\n",
       "      <th>5416</th>\n",
       "      <td>Land Rover Range Rover Vogue SE 4.4 SDV8</td>\n",
       "      <td>Coimbatore</td>\n",
       "      <td>2013</td>\n",
       "      <td>75995</td>\n",
       "      <td>Diesel</td>\n",
       "      <td>1</td>\n",
       "      <td>2</td>\n",
       "      <td>11.49 kmpl</td>\n",
       "      <td>4367.0</td>\n",
       "      <td>335.30</td>\n",
       "      <td>5.0</td>\n",
       "      <td>65.81</td>\n",
       "      <td>Land</td>\n",
       "    </tr>\n",
       "    <tr>\n",
       "      <th>5477</th>\n",
       "      <td>Land Rover Range Rover HSE Dynamic</td>\n",
       "      <td>Kochi</td>\n",
       "      <td>2018</td>\n",
       "      <td>52827</td>\n",
       "      <td>Diesel</td>\n",
       "      <td>1</td>\n",
       "      <td>1</td>\n",
       "      <td>12.7 kmpl</td>\n",
       "      <td>2179.0</td>\n",
       "      <td>187.70</td>\n",
       "      <td>5.0</td>\n",
       "      <td>44.76</td>\n",
       "      <td>Land</td>\n",
       "    </tr>\n",
       "    <tr>\n",
       "      <th>5530</th>\n",
       "      <td>Land Rover Freelander 2 SE</td>\n",
       "      <td>Kochi</td>\n",
       "      <td>2014</td>\n",
       "      <td>59885</td>\n",
       "      <td>Diesel</td>\n",
       "      <td>1</td>\n",
       "      <td>1</td>\n",
       "      <td>12.39 kmpl</td>\n",
       "      <td>2179.0</td>\n",
       "      <td>147.51</td>\n",
       "      <td>5.0</td>\n",
       "      <td>20.11</td>\n",
       "      <td>Land</td>\n",
       "    </tr>\n",
       "    <tr>\n",
       "      <th>5539</th>\n",
       "      <td>Land Rover Discovery Sport SD4 HSE Luxury</td>\n",
       "      <td>Delhi</td>\n",
       "      <td>2016</td>\n",
       "      <td>70000</td>\n",
       "      <td>Diesel</td>\n",
       "      <td>1</td>\n",
       "      <td>1</td>\n",
       "      <td>12.97 kmpl</td>\n",
       "      <td>2179.0</td>\n",
       "      <td>187.70</td>\n",
       "      <td>5.0</td>\n",
       "      <td>35.00</td>\n",
       "      <td>Land</td>\n",
       "    </tr>\n",
       "    <tr>\n",
       "      <th>5545</th>\n",
       "      <td>Land Rover Range Rover Sport SE</td>\n",
       "      <td>Delhi</td>\n",
       "      <td>2014</td>\n",
       "      <td>47000</td>\n",
       "      <td>Diesel</td>\n",
       "      <td>1</td>\n",
       "      <td>2</td>\n",
       "      <td>12.65 kmpl</td>\n",
       "      <td>2993.0</td>\n",
       "      <td>255.00</td>\n",
       "      <td>5.0</td>\n",
       "      <td>64.75</td>\n",
       "      <td>Land</td>\n",
       "    </tr>\n",
       "  </tbody>\n",
       "</table>\n",
       "</div>"
      ],
      "text/plain": [
       "                                                   Name    Location  Year  \\\n",
       "13                     Land Rover Range Rover 2.2L Pure       Delhi  2014   \n",
       "14                       Land Rover Freelander 2 TD4 SE        Pune  2012   \n",
       "191                 Land Rover Range Rover 2.2L Dynamic  Coimbatore  2018   \n",
       "311                  Land Rover Range Rover HSE Dynamic       Delhi  2017   \n",
       "399                 Land Rover Range Rover 2.2L Dynamic   Hyderabad  2012   \n",
       "404                Land Rover Range Rover 2.2L Prestige  Coimbatore  2017   \n",
       "410                    Land Rover Range Rover 2.2L Pure  Coimbatore  2014   \n",
       "480          Land Rover Range Rover Evoque 2.0 TD4 Pure       Delhi  2015   \n",
       "521                  Land Rover Range Rover HSE Dynamic  Coimbatore  2017   \n",
       "701                          Land Rover Freelander 2 SE     Chennai  2011   \n",
       "749                        Land Rover Range Rover 3.0 D      Mumbai  2008   \n",
       "941   Land Rover Range Rover Evoque 2.0 TD4 HSE Dynamic       Kochi  2018   \n",
       "1038               Land Rover Range Rover TDV8 (Diesel)   Bangalore  2011   \n",
       "1204                        Land Rover Freelander 2 HSE   Hyderabad  2012   \n",
       "1259                      Land Rover Freelander 2 TD4 S   Bangalore  2010   \n",
       "1299                     Land Rover Discovery 4 TDV6 SE       Delhi  2013   \n",
       "1352    Land Rover Range Rover 3.6 TDV8 Vogue SE Diesel   Bangalore  2012   \n",
       "1460       Land Rover Range Rover Sport 2005 2012 Sport  Coimbatore  2008   \n",
       "1505                    Land Rover Range Rover Sport SE       Kochi  2019   \n",
       "1513                   Land Rover Range Rover 2.2L Pure   Bangalore  2014   \n",
       "1568              Land Rover Discovery Sport TD4 HSE 7S      Mumbai  2017   \n",
       "1988                         Land Rover Freelander 2 SE      Mumbai  2012   \n",
       "2139         Land Rover Range Rover Evoque 2.0 TD4 Pure       Kochi  2016   \n",
       "2178            Land Rover Discovery HSE Luxury 3.0 TD6      Mumbai  2017   \n",
       "2263               Land Rover Range Rover 2.2L Prestige  Coimbatore  2014   \n",
       "2306         Land Rover Range Rover Sport 2005 2012 HSE   Hyderabad  2010   \n",
       "2528                    Land Rover Discovery SE 3.0 TD6       Delhi  2016   \n",
       "2924                 Land Rover Range Rover HSE Dynamic       Kochi  2018   \n",
       "3043                 Land Rover Discovery Sport TD4 HSE  Coimbatore  2019   \n",
       "3218                Land Rover Range Rover 2.2L Dynamic        Pune  2015   \n",
       "3242           Land Rover Range Rover Vogue SE 4.4 SDV8   Bangalore  2012   \n",
       "3410                    Land Rover Freelander 2 HSE SD4   Ahmedabad  2012   \n",
       "3540       Land Rover Discovery Sport SD4 HSE Luxury 7S   Hyderabad  2016   \n",
       "3752                   Land Rover Range Rover Sport HSE       Kochi  2015   \n",
       "3839       Land Rover Discovery 3 TDV6 Diesel Automatic        Pune  2012   \n",
       "4058                 Land Rover Discovery Sport TD4 HSE       Delhi  2016   \n",
       "4079        Land Rover Range Rover 3.0 Diesel LWB Vogue   Hyderabad  2017   \n",
       "4152                       Land Rover Range Rover 3.0 D      Mumbai  2003   \n",
       "4247                         Land Rover Freelander 2 SE   Ahmedabad  2012   \n",
       "4466                         Land Rover Freelander 2 SE       Kochi  2014   \n",
       "4630                        Land Rover Freelander 2 HSE      Mumbai  2011   \n",
       "4687                     Land Rover Freelander 2 TD4 SE      Jaipur  2012   \n",
       "4701                         Land Rover Freelander 2 SE        Pune  2014   \n",
       "4755  Land Rover Range Rover Evoque 2.0 TD4 HSE Dynamic   Hyderabad  2016   \n",
       "4801                         Land Rover Freelander 2 SE   Hyderabad  2011   \n",
       "4814                         Land Rover Freelander 2 SE       Delhi  2013   \n",
       "4869           Land Rover Range Rover 3.6 TDV8 Vogue SE  Coimbatore  2012   \n",
       "4925                   Land Rover Discovery Sport TD4 S       Delhi  2017   \n",
       "5016                    Land Rover Freelander 2 TD4 HSE       Delhi  2013   \n",
       "5022                     Land Rover Freelander 2 TD4 SE   Hyderabad  2013   \n",
       "5038              Land Rover Discovery Sport TD4 HSE 7S  Coimbatore  2019   \n",
       "5067       Land Rover Discovery Sport SD4 HSE Luxury 7S  Coimbatore  2019   \n",
       "5311                     Land Rover Freelander 2 TD4 SE   Hyderabad  2012   \n",
       "5382               Land Rover Range Rover 2.2L Prestige       Delhi  2015   \n",
       "5411                   Land Rover Range Rover 2.2L Pure       Delhi  2014   \n",
       "5416           Land Rover Range Rover Vogue SE 4.4 SDV8  Coimbatore  2013   \n",
       "5477                 Land Rover Range Rover HSE Dynamic       Kochi  2018   \n",
       "5530                         Land Rover Freelander 2 SE       Kochi  2014   \n",
       "5539          Land Rover Discovery Sport SD4 HSE Luxury       Delhi  2016   \n",
       "5545                    Land Rover Range Rover Sport SE       Delhi  2014   \n",
       "\n",
       "      Kilometers_Driven Fuel_Type  Transmission  Owner_Type     Mileage  \\\n",
       "13                72000    Diesel             1           1   12.7 kmpl   \n",
       "14                85000    Diesel             1           2    0.0 kmpl   \n",
       "191               36091    Diesel             1           1   12.7 kmpl   \n",
       "311               44000    Diesel             1           1   12.7 kmpl   \n",
       "399               56000    Diesel             1           1   12.7 kmpl   \n",
       "404               34990    Diesel             1           1   12.7 kmpl   \n",
       "410               95649    Diesel             1           1   12.7 kmpl   \n",
       "480               24000    Diesel             1           2  15.68 kmpl   \n",
       "521               49275    Diesel             1           1   12.7 kmpl   \n",
       "701              109000    Diesel             1           1  12.39 kmpl   \n",
       "749               55001    Diesel             1           2    0.0 kmpl   \n",
       "941               31427    Diesel             1           1  15.68 kmpl   \n",
       "1038              55000    Diesel             1           1   10.2 kmpl   \n",
       "1204              96000    Diesel             1           1  12.35 kmpl   \n",
       "1259             125000    Diesel             1           2    0.0 kmpl   \n",
       "1299              65000    Diesel             1           2   11.8 kmpl   \n",
       "1352              66538    Diesel             1           1   10.2 kmpl   \n",
       "1460              69078    Petrol             0           1    0.0 kmpl   \n",
       "1505              26013    Diesel             1           1  12.65 kmpl   \n",
       "1513              56000    Diesel             1           1   12.7 kmpl   \n",
       "1568              40000    Diesel             1           1  12.81 kmpl   \n",
       "1988              34000    Diesel             1           1  12.39 kmpl   \n",
       "2139              29022    Diesel             1           2  15.68 kmpl   \n",
       "2178              35000    Diesel             1           1   18.0 kmpl   \n",
       "2263              64557    Diesel             1           2   12.7 kmpl   \n",
       "2306              45000    Diesel             1           1   14.7 kmpl   \n",
       "2528              59000    Diesel             1           1   18.0 kmpl   \n",
       "2924              41661    Diesel             1           1   12.7 kmpl   \n",
       "3043              25899    Diesel             1           1  12.63 kmpl   \n",
       "3218              52000    Diesel             1           1   12.7 kmpl   \n",
       "3242              63000    Diesel             1           2  11.49 kmpl   \n",
       "3410              60000    Diesel             1           2  12.35 kmpl   \n",
       "3540              62000    Diesel             1           1  12.51 kmpl   \n",
       "3752              38467    Diesel             1           1  12.65 kmpl   \n",
       "3839             117236    Diesel             1           2   11.8 kmpl   \n",
       "4058              77000    Diesel             1           1  12.63 kmpl   \n",
       "4079              25000    Diesel             1           1  13.33 kmpl   \n",
       "4152              75000    Diesel             1           2    0.0 kmpl   \n",
       "4247              75000    Diesel             1           2  12.39 kmpl   \n",
       "4466              61730    Diesel             1           1  12.39 kmpl   \n",
       "4630              82000    Diesel             1           2  12.35 kmpl   \n",
       "4687             119203    Diesel             1           1    0.0 kmpl   \n",
       "4701              85000    Diesel             1           2  12.39 kmpl   \n",
       "4755              52000    Diesel             1           1  15.68 kmpl   \n",
       "4801              68000    Diesel             1           1  12.39 kmpl   \n",
       "4814              68000    Diesel             1           2  12.39 kmpl   \n",
       "4869              84384    Diesel             1           1   10.2 kmpl   \n",
       "4925              22000    Diesel             1           1  12.83 kmpl   \n",
       "5016              72000    Diesel             1           1    0.0 kmpl   \n",
       "5022              46000    Diesel             1           2    0.0 kmpl   \n",
       "5038              24013    Diesel             1           1  12.81 kmpl   \n",
       "5067              17201    Diesel             1           1  12.51 kmpl   \n",
       "5311             139000    Diesel             1           1    0.0 kmpl   \n",
       "5382              37000    Diesel             1           1   12.7 kmpl   \n",
       "5411              38999    Diesel             1           1   12.7 kmpl   \n",
       "5416              75995    Diesel             1           2  11.49 kmpl   \n",
       "5477              52827    Diesel             1           1   12.7 kmpl   \n",
       "5530              59885    Diesel             1           1  12.39 kmpl   \n",
       "5539              70000    Diesel             1           1  12.97 kmpl   \n",
       "5545              47000    Diesel             1           2  12.65 kmpl   \n",
       "\n",
       "      Engine   Power  Seats   Price Brands  \n",
       "13    2179.0  187.70    5.0   27.00   Land  \n",
       "14    2179.0  115.00    5.0   17.50   Land  \n",
       "191   2179.0  187.70    5.0   55.76   Land  \n",
       "311   2179.0  187.70    5.0   44.00   Land  \n",
       "399   2179.0  187.70    5.0   30.00   Land  \n",
       "404   2179.0  187.70    5.0   53.83   Land  \n",
       "410   2179.0  187.70    5.0   29.67   Land  \n",
       "480   1999.0  177.00    5.0   33.50   Land  \n",
       "521   2179.0  187.70    5.0   45.64   Land  \n",
       "701   2179.0  147.51    5.0   16.50   Land  \n",
       "749      NaN     NaN    NaN   26.50   Land  \n",
       "941   1999.0  177.00    5.0   59.72   Land  \n",
       "1038  4367.0  308.00    7.0   67.00   Land  \n",
       "1204  2179.0  187.74    5.0   18.98   Land  \n",
       "1259  2179.0  115.00    5.0   11.00   Land  \n",
       "1299  2993.0  180.00    7.0   34.00   Land  \n",
       "1352  4367.0  308.00    7.0   70.00   Land  \n",
       "1460     NaN     NaN    NaN   40.88   Land  \n",
       "1505  2993.0  255.00    5.0   97.07   Land  \n",
       "1513  2179.0  187.70    5.0   34.50   Land  \n",
       "1568  1999.0  148.31    7.0   41.50   Land  \n",
       "1988  2179.0  147.51    5.0   19.25   Land  \n",
       "2139  1999.0  177.00    5.0   34.08   Land  \n",
       "2178  2993.0  255.00    7.0   41.60   Land  \n",
       "2263  2179.0  187.70    5.0   29.93   Land  \n",
       "2306  2993.0  241.40    6.0   40.00   Land  \n",
       "2528  2993.0  255.00    7.0   36.75   Land  \n",
       "2924  2179.0  187.70    5.0   44.83   Land  \n",
       "3043  2179.0  147.50    5.0   55.70   Land  \n",
       "3218  2179.0  187.70    5.0   39.75   Land  \n",
       "3242  4367.0  335.30    5.0   65.00   Land  \n",
       "3410  2179.0  187.74    5.0   23.50   Land  \n",
       "3540  2179.0  187.70    7.0   44.50   Land  \n",
       "3752  2993.0  255.00    5.0   70.66   Land  \n",
       "3839  2720.0  190.00    7.0   14.00   Land  \n",
       "4058  2179.0  147.50    5.0   35.00   Land  \n",
       "4079  2993.0  255.00    5.0  160.00   Land  \n",
       "4152     NaN     NaN    NaN   16.11   Land  \n",
       "4247  2179.0  147.51    5.0   17.50   Land  \n",
       "4466  2179.0  147.51    5.0   19.94   Land  \n",
       "4630  2179.0  187.74    5.0   13.90   Land  \n",
       "4687  2179.0  115.00    5.0   16.50   Land  \n",
       "4701  2179.0  147.51    5.0   23.00   Land  \n",
       "4755  1999.0  177.00    5.0   42.00   Land  \n",
       "4801  2179.0  147.51    5.0   22.00   Land  \n",
       "4814  2179.0  147.51    5.0   15.75   Land  \n",
       "4869  4367.0  308.00    7.0   52.54   Land  \n",
       "4925  2179.0  147.50    5.0   35.00   Land  \n",
       "5016  2179.0  115.00    5.0   15.50   Land  \n",
       "5022  2179.0  115.00    5.0   26.00   Land  \n",
       "5038  1999.0  148.31    7.0   56.14   Land  \n",
       "5067  2179.0  187.70    7.0   58.91   Land  \n",
       "5311  2179.0  115.00    5.0   16.75   Land  \n",
       "5382  2179.0  187.70    5.0   36.00   Land  \n",
       "5411  2179.0  187.70    5.0   32.50   Land  \n",
       "5416  4367.0  335.30    5.0   65.81   Land  \n",
       "5477  2179.0  187.70    5.0   44.76   Land  \n",
       "5530  2179.0  147.51    5.0   20.11   Land  \n",
       "5539  2179.0  187.70    5.0   35.00   Land  \n",
       "5545  2993.0  255.00    5.0   64.75   Land  "
      ]
     },
     "execution_count": 16,
     "metadata": {},
     "output_type": "execute_result"
    }
   ],
   "source": [
    "df[df['Name'].str.startswith(\"Land\")]"
   ]
  },
  {
   "cell_type": "code",
   "execution_count": 17,
   "id": "3a06b53d",
   "metadata": {},
   "outputs": [
    {
     "data": {
      "text/plain": [
       "array(['Mumbai', 'Pune', 'Chennai', 'Coimbatore', 'Hyderabad', 'Jaipur',\n",
       "       'Kochi', 'Kolkata', 'Delhi', 'Bangalore', 'Ahmedabad'],\n",
       "      dtype=object)"
      ]
     },
     "execution_count": 17,
     "metadata": {},
     "output_type": "execute_result"
    }
   ],
   "source": [
    "df['Location'].unique()"
   ]
  },
  {
   "cell_type": "code",
   "execution_count": null,
   "id": "bbe51abb",
   "metadata": {},
   "outputs": [],
   "source": []
  },
  {
   "cell_type": "code",
   "execution_count": 18,
   "id": "79659d5c",
   "metadata": {},
   "outputs": [
    {
     "data": {
      "image/png": "[encoded data removed]",
      "text/plain": [
       "<Figure size 720x720 with 2 Axes>"
      ]
     },
     "metadata": {
      "needs_background": "light"
     },
     "output_type": "display_data"
    }
   ],
   "source": [
    "plt.figure(figsize=(10,10))\n",
    "sns.heatmap(df.corr(),annot=True)\n",
    "plt.show()"
   ]
  },
  {
   "cell_type": "code",
   "execution_count": 19,
   "id": "60ca7efc",
   "metadata": {},
   "outputs": [
    {
     "data": {
      "text/html": [
       "<div>\n",
       "<style scoped>\n",
       "    .dataframe tbody tr th:only-of-type {\n",
       "        vertical-align: middle;\n",
       "    }\n",
       "\n",
       "    .dataframe tbody tr th {\n",
       "        vertical-align: top;\n",
       "    }\n",
       "\n",
       "    .dataframe thead th {\n",
       "        text-align: right;\n",
       "    }\n",
       "</style>\n",
       "<table border=\"1\" class=\"dataframe\">\n",
       "  <thead>\n",
       "    <tr style=\"text-align: right;\">\n",
       "      <th></th>\n",
       "      <th>Year</th>\n",
       "      <th>Kilometers_Driven</th>\n",
       "      <th>Transmission</th>\n",
       "      <th>Owner_Type</th>\n",
       "      <th>Engine</th>\n",
       "      <th>Power</th>\n",
       "      <th>Seats</th>\n",
       "      <th>Price</th>\n",
       "    </tr>\n",
       "  </thead>\n",
       "  <tbody>\n",
       "    <tr>\n",
       "      <th>count</th>\n",
       "      <td>6019.000000</td>\n",
       "      <td>6.019000e+03</td>\n",
       "      <td>6019.000000</td>\n",
       "      <td>6019.000000</td>\n",
       "      <td>5983.000000</td>\n",
       "      <td>5876.000000</td>\n",
       "      <td>5977.000000</td>\n",
       "      <td>6019.000000</td>\n",
       "    </tr>\n",
       "    <tr>\n",
       "      <th>mean</th>\n",
       "      <td>2013.358199</td>\n",
       "      <td>5.873838e+04</td>\n",
       "      <td>0.285762</td>\n",
       "      <td>1.202858</td>\n",
       "      <td>1621.276450</td>\n",
       "      <td>113.253050</td>\n",
       "      <td>5.278735</td>\n",
       "      <td>9.479468</td>\n",
       "    </tr>\n",
       "    <tr>\n",
       "      <th>std</th>\n",
       "      <td>3.269742</td>\n",
       "      <td>9.126884e+04</td>\n",
       "      <td>0.451814</td>\n",
       "      <td>0.456356</td>\n",
       "      <td>601.355233</td>\n",
       "      <td>53.874957</td>\n",
       "      <td>0.808840</td>\n",
       "      <td>11.187917</td>\n",
       "    </tr>\n",
       "    <tr>\n",
       "      <th>min</th>\n",
       "      <td>1998.000000</td>\n",
       "      <td>1.710000e+02</td>\n",
       "      <td>0.000000</td>\n",
       "      <td>1.000000</td>\n",
       "      <td>72.000000</td>\n",
       "      <td>34.200000</td>\n",
       "      <td>0.000000</td>\n",
       "      <td>0.440000</td>\n",
       "    </tr>\n",
       "    <tr>\n",
       "      <th>25%</th>\n",
       "      <td>2011.000000</td>\n",
       "      <td>3.400000e+04</td>\n",
       "      <td>0.000000</td>\n",
       "      <td>1.000000</td>\n",
       "      <td>1198.000000</td>\n",
       "      <td>75.000000</td>\n",
       "      <td>5.000000</td>\n",
       "      <td>3.500000</td>\n",
       "    </tr>\n",
       "    <tr>\n",
       "      <th>50%</th>\n",
       "      <td>2014.000000</td>\n",
       "      <td>5.300000e+04</td>\n",
       "      <td>0.000000</td>\n",
       "      <td>1.000000</td>\n",
       "      <td>1493.000000</td>\n",
       "      <td>97.700000</td>\n",
       "      <td>5.000000</td>\n",
       "      <td>5.640000</td>\n",
       "    </tr>\n",
       "    <tr>\n",
       "      <th>75%</th>\n",
       "      <td>2016.000000</td>\n",
       "      <td>7.300000e+04</td>\n",
       "      <td>1.000000</td>\n",
       "      <td>1.000000</td>\n",
       "      <td>1984.000000</td>\n",
       "      <td>138.100000</td>\n",
       "      <td>5.000000</td>\n",
       "      <td>9.950000</td>\n",
       "    </tr>\n",
       "    <tr>\n",
       "      <th>max</th>\n",
       "      <td>2019.000000</td>\n",
       "      <td>6.500000e+06</td>\n",
       "      <td>1.000000</td>\n",
       "      <td>4.000000</td>\n",
       "      <td>5998.000000</td>\n",
       "      <td>560.000000</td>\n",
       "      <td>10.000000</td>\n",
       "      <td>160.000000</td>\n",
       "    </tr>\n",
       "  </tbody>\n",
       "</table>\n",
       "</div>"
      ],
      "text/plain": [
       "              Year  Kilometers_Driven  Transmission   Owner_Type       Engine  \\\n",
       "count  6019.000000       6.019000e+03   6019.000000  6019.000000  5983.000000   \n",
       "mean   2013.358199       5.873838e+04      0.285762     1.202858  1621.276450   \n",
       "std       3.269742       9.126884e+04      0.451814     0.456356   601.355233   \n",
       "min    1998.000000       1.710000e+02      0.000000     1.000000    72.000000   \n",
       "25%    2011.000000       3.400000e+04      0.000000     1.000000  1198.000000   \n",
       "50%    2014.000000       5.300000e+04      0.000000     1.000000  1493.000000   \n",
       "75%    2016.000000       7.300000e+04      1.000000     1.000000  1984.000000   \n",
       "max    2019.000000       6.500000e+06      1.000000     4.000000  5998.000000   \n",
       "\n",
       "             Power        Seats        Price  \n",
       "count  5876.000000  5977.000000  6019.000000  \n",
       "mean    113.253050     5.278735     9.479468  \n",
       "std      53.874957     0.808840    11.187917  \n",
       "min      34.200000     0.000000     0.440000  \n",
       "25%      75.000000     5.000000     3.500000  \n",
       "50%      97.700000     5.000000     5.640000  \n",
       "75%     138.100000     5.000000     9.950000  \n",
       "max     560.000000    10.000000   160.000000  "
      ]
     },
     "execution_count": 19,
     "metadata": {},
     "output_type": "execute_result"
    }
   ],
   "source": [
    "df.describe()"
   ]
  },
  {
   "cell_type": "code",
   "execution_count": 20,
   "id": "85a65985",
   "metadata": {
    "scrolled": true
   },
   "outputs": [
    {
     "data": {
      "text/plain": [
       "Year                  2019.000000\n",
       "Kilometers_Driven    20019.647059\n",
       "Transmission             0.450980\n",
       "Owner_Type               1.000000\n",
       "Engine                1728.862745\n",
       "Power                  125.320686\n",
       "Seats                    5.450980\n",
       "Price                   19.464118\n",
       "dtype: float64"
      ]
     },
     "execution_count": 20,
     "metadata": {},
     "output_type": "execute_result"
    }
   ],
   "source": [
    "df[df[\"Year\"]==2019].mean()"
   ]
  },
  {
   "cell_type": "markdown",
   "id": "031f1280",
   "metadata": {},
   "source": [
    "## so according to the above data we can predict that this data was submited in 2020 "
   ]
  },
  {
   "cell_type": "markdown",
   "id": "c7ed438a",
   "metadata": {},
   "source": [
    "## in the following cell we are going to create a new feature that describe the usage of the car along years"
   ]
  },
  {
   "cell_type": "code",
   "execution_count": 21,
   "id": "65428a4d",
   "metadata": {},
   "outputs": [],
   "source": [
    "arr=list()\n",
    "for i in range(6019):\n",
    "    arr.append((2020-df.iloc[i,2])/df.iloc[i,3])\n",
    "df['km/year']=arr   "
   ]
  },
  {
   "cell_type": "code",
   "execution_count": 22,
   "id": "4f32d43d",
   "metadata": {},
   "outputs": [
    {
     "data": {
      "text/html": [
       "<div>\n",
       "<style scoped>\n",
       "    .dataframe tbody tr th:only-of-type {\n",
       "        vertical-align: middle;\n",
       "    }\n",
       "\n",
       "    .dataframe tbody tr th {\n",
       "        vertical-align: top;\n",
       "    }\n",
       "\n",
       "    .dataframe thead th {\n",
       "        text-align: right;\n",
       "    }\n",
       "</style>\n",
       "<table border=\"1\" class=\"dataframe\">\n",
       "  <thead>\n",
       "    <tr style=\"text-align: right;\">\n",
       "      <th></th>\n",
       "      <th>Year</th>\n",
       "      <th>Kilometers_Driven</th>\n",
       "      <th>Transmission</th>\n",
       "      <th>Owner_Type</th>\n",
       "      <th>Engine</th>\n",
       "      <th>Power</th>\n",
       "      <th>Seats</th>\n",
       "      <th>Price</th>\n",
       "      <th>km/year</th>\n",
       "    </tr>\n",
       "  </thead>\n",
       "  <tbody>\n",
       "    <tr>\n",
       "      <th>Year</th>\n",
       "      <td>1.000000</td>\n",
       "      <td>-0.173048</td>\n",
       "      <td>0.097059</td>\n",
       "      <td>-0.397152</td>\n",
       "      <td>-0.052197</td>\n",
       "      <td>0.014525</td>\n",
       "      <td>0.012333</td>\n",
       "      <td>0.305327</td>\n",
       "      <td>-0.054577</td>\n",
       "    </tr>\n",
       "    <tr>\n",
       "      <th>Kilometers_Driven</th>\n",
       "      <td>-0.173048</td>\n",
       "      <td>1.000000</td>\n",
       "      <td>-0.025663</td>\n",
       "      <td>0.085337</td>\n",
       "      <td>0.091068</td>\n",
       "      <td>0.033503</td>\n",
       "      <td>0.083113</td>\n",
       "      <td>-0.011493</td>\n",
       "      <td>-0.121483</td>\n",
       "    </tr>\n",
       "    <tr>\n",
       "      <th>Transmission</th>\n",
       "      <td>0.097059</td>\n",
       "      <td>-0.025663</td>\n",
       "      <td>1.000000</td>\n",
       "      <td>-0.008797</td>\n",
       "      <td>0.500381</td>\n",
       "      <td>0.643737</td>\n",
       "      <td>-0.075475</td>\n",
       "      <td>0.586025</td>\n",
       "      <td>0.006323</td>\n",
       "    </tr>\n",
       "    <tr>\n",
       "      <th>Owner_Type</th>\n",
       "      <td>-0.397152</td>\n",
       "      <td>0.085337</td>\n",
       "      <td>-0.008797</td>\n",
       "      <td>1.000000</td>\n",
       "      <td>0.050907</td>\n",
       "      <td>0.026088</td>\n",
       "      <td>0.014052</td>\n",
       "      <td>-0.097557</td>\n",
       "      <td>-0.010639</td>\n",
       "    </tr>\n",
       "    <tr>\n",
       "      <th>Engine</th>\n",
       "      <td>-0.052197</td>\n",
       "      <td>0.091068</td>\n",
       "      <td>0.500381</td>\n",
       "      <td>0.050907</td>\n",
       "      <td>1.000000</td>\n",
       "      <td>0.866185</td>\n",
       "      <td>0.393337</td>\n",
       "      <td>0.658354</td>\n",
       "      <td>-0.057974</td>\n",
       "    </tr>\n",
       "    <tr>\n",
       "      <th>Power</th>\n",
       "      <td>0.014525</td>\n",
       "      <td>0.033503</td>\n",
       "      <td>0.643737</td>\n",
       "      <td>0.026088</td>\n",
       "      <td>0.866185</td>\n",
       "      <td>1.000000</td>\n",
       "      <td>0.101562</td>\n",
       "      <td>0.772566</td>\n",
       "      <td>-0.016878</td>\n",
       "    </tr>\n",
       "    <tr>\n",
       "      <th>Seats</th>\n",
       "      <td>0.012333</td>\n",
       "      <td>0.083113</td>\n",
       "      <td>-0.075475</td>\n",
       "      <td>0.014052</td>\n",
       "      <td>0.393337</td>\n",
       "      <td>0.101562</td>\n",
       "      <td>1.000000</td>\n",
       "      <td>0.052225</td>\n",
       "      <td>-0.115701</td>\n",
       "    </tr>\n",
       "    <tr>\n",
       "      <th>Price</th>\n",
       "      <td>0.305327</td>\n",
       "      <td>-0.011493</td>\n",
       "      <td>0.586025</td>\n",
       "      <td>-0.097557</td>\n",
       "      <td>0.658354</td>\n",
       "      <td>0.772566</td>\n",
       "      <td>0.052225</td>\n",
       "      <td>1.000000</td>\n",
       "      <td>0.000750</td>\n",
       "    </tr>\n",
       "    <tr>\n",
       "      <th>km/year</th>\n",
       "      <td>-0.054577</td>\n",
       "      <td>-0.121483</td>\n",
       "      <td>0.006323</td>\n",
       "      <td>-0.010639</td>\n",
       "      <td>-0.057974</td>\n",
       "      <td>-0.016878</td>\n",
       "      <td>-0.115701</td>\n",
       "      <td>0.000750</td>\n",
       "      <td>1.000000</td>\n",
       "    </tr>\n",
       "  </tbody>\n",
       "</table>\n",
       "</div>"
      ],
      "text/plain": [
       "                       Year  Kilometers_Driven  Transmission  Owner_Type  \\\n",
       "Year               1.000000          -0.173048      0.097059   -0.397152   \n",
       "Kilometers_Driven -0.173048           1.000000     -0.025663    0.085337   \n",
       "Transmission       0.097059          -0.025663      1.000000   -0.008797   \n",
       "Owner_Type        -0.397152           0.085337     -0.008797    1.000000   \n",
       "Engine            -0.052197           0.091068      0.500381    0.050907   \n",
       "Power              0.014525           0.033503      0.643737    0.026088   \n",
       "Seats              0.012333           0.083113     -0.075475    0.014052   \n",
       "Price              0.305327          -0.011493      0.586025   -0.097557   \n",
       "km/year           -0.054577          -0.121483      0.006323   -0.010639   \n",
       "\n",
       "                     Engine     Power     Seats     Price   km/year  \n",
       "Year              -0.052197  0.014525  0.012333  0.305327 -0.054577  \n",
       "Kilometers_Driven  0.091068  0.033503  0.083113 -0.011493 -0.121483  \n",
       "Transmission       0.500381  0.643737 -0.075475  0.586025  0.006323  \n",
       "Owner_Type         0.050907  0.026088  0.014052 -0.097557 -0.010639  \n",
       "Engine             1.000000  0.866185  0.393337  0.658354 -0.057974  \n",
       "Power              0.866185  1.000000  0.101562  0.772566 -0.016878  \n",
       "Seats              0.393337  0.101562  1.000000  0.052225 -0.115701  \n",
       "Price              0.658354  0.772566  0.052225  1.000000  0.000750  \n",
       "km/year           -0.057974 -0.016878 -0.115701  0.000750  1.000000  "
      ]
     },
     "execution_count": 22,
     "metadata": {},
     "output_type": "execute_result"
    }
   ],
   "source": [
    "df.corr()"
   ]
  },
  {
   "cell_type": "code",
   "execution_count": 23,
   "id": "e23a50de",
   "metadata": {},
   "outputs": [
    {
     "name": "stderr",
     "output_type": "stream",
     "text": [
      "C:\\ProgramData\\Anaconda3\\lib\\site-packages\\seaborn\\_decorators.py:36: FutureWarning: Pass the following variable as a keyword arg: x. From version 0.12, the only valid positional argument will be `data`, and passing other arguments without an explicit keyword will result in an error or misinterpretation.\n",
      "  warnings.warn(\n"
     ]
    },
    {
     "data": {
      "text/plain": [
       "<AxesSubplot:xlabel='Year', ylabel='count'>"
      ]
     },
     "execution_count": 23,
     "metadata": {},
     "output_type": "execute_result"
    },
    {
     "data": {
      "image/png": "[encoded data removed]",
      "text/plain": [
       "<Figure size 720x720 with 1 Axes>"
      ]
     },
     "metadata": {
      "needs_background": "light"
     },
     "output_type": "display_data"
    }
   ],
   "source": [
    "plt.figure(figsize=(10,10))\n",
    "sns.countplot(df['Year'])"
   ]
  },
  {
   "cell_type": "markdown",
   "id": "af9f23bf",
   "metadata": {},
   "source": [
    "## we can conclude from the above plot:\n",
    "### 1-most of the cars in the used cars market manifactured between 2012 and 2017 which means that they are hte most accepted\n",
    "### 2-there was a high inclination of slope after 2009\n"
   ]
  },
  {
   "cell_type": "code",
   "execution_count": 24,
   "id": "9013784f",
   "metadata": {
    "scrolled": true
   },
   "outputs": [
    {
     "name": "stdout",
     "output_type": "stream",
     "text": [
      "1998\n",
      "0    3\n",
      "1    1\n",
      "Name: Transmission, dtype: int64\n"
     ]
    },
    {
     "name": "stderr",
     "output_type": "stream",
     "text": [
      "C:\\ProgramData\\Anaconda3\\lib\\site-packages\\seaborn\\_decorators.py:36: FutureWarning: Pass the following variable as a keyword arg: x. From version 0.12, the only valid positional argument will be `data`, and passing other arguments without an explicit keyword will result in an error or misinterpretation.\n",
      "  warnings.warn(\n"
     ]
    },
    {
     "data": {
      "image/png": "[encoded data removed]",
      "text/plain": [
       "<Figure size 432x288 with 1 Axes>"
      ]
     },
     "metadata": {
      "needs_background": "light"
     },
     "output_type": "display_data"
    },
    {
     "name": "stdout",
     "output_type": "stream",
     "text": [
      "1999\n",
      "0    2\n",
      "Name: Transmission, dtype: int64\n"
     ]
    },
    {
     "name": "stderr",
     "output_type": "stream",
     "text": [
      "C:\\ProgramData\\Anaconda3\\lib\\site-packages\\seaborn\\_decorators.py:36: FutureWarning: Pass the following variable as a keyword arg: x. From version 0.12, the only valid positional argument will be `data`, and passing other arguments without an explicit keyword will result in an error or misinterpretation.\n",
      "  warnings.warn(\n"
     ]
    },
    {
     "data": {
      "image/png": "[encoded data removed]",
      "text/plain": [
       "<Figure size 432x288 with 1 Axes>"
      ]
     },
     "metadata": {
      "needs_background": "light"
     },
     "output_type": "display_data"
    },
    {
     "name": "stdout",
     "output_type": "stream",
     "text": [
      "2000\n",
      "0    4\n",
      "Name: Transmission, dtype: int64\n"
     ]
    },
    {
     "name": "stderr",
     "output_type": "stream",
     "text": [
      "C:\\ProgramData\\Anaconda3\\lib\\site-packages\\seaborn\\_decorators.py:36: FutureWarning: Pass the following variable as a keyword arg: x. From version 0.12, the only valid positional argument will be `data`, and passing other arguments without an explicit keyword will result in an error or misinterpretation.\n",
      "  warnings.warn(\n"
     ]
    },
    {
     "data": {
      "image/png": "[encoded data removed]",
      "text/plain": [
       "<Figure size 432x288 with 1 Axes>"
      ]
     },
     "metadata": {
      "needs_background": "light"
     },
     "output_type": "display_data"
    },
    {
     "name": "stdout",
     "output_type": "stream",
     "text": [
      "2001\n",
      "0    8\n",
      "Name: Transmission, dtype: int64\n"
     ]
    },
    {
     "name": "stderr",
     "output_type": "stream",
     "text": [
      "C:\\ProgramData\\Anaconda3\\lib\\site-packages\\seaborn\\_decorators.py:36: FutureWarning: Pass the following variable as a keyword arg: x. From version 0.12, the only valid positional argument will be `data`, and passing other arguments without an explicit keyword will result in an error or misinterpretation.\n",
      "  warnings.warn(\n"
     ]
    },
    {
     "data": {
      "image/png": "[encoded data removed]",
      "text/plain": [
       "<Figure size 432x288 with 1 Axes>"
      ]
     },
     "metadata": {
      "needs_background": "light"
     },
     "output_type": "display_data"
    },
    {
     "name": "stdout",
     "output_type": "stream",
     "text": [
      "2002\n",
      "0    15\n",
      "Name: Transmission, dtype: int64\n"
     ]
    },
    {
     "name": "stderr",
     "output_type": "stream",
     "text": [
      "C:\\ProgramData\\Anaconda3\\lib\\site-packages\\seaborn\\_decorators.py:36: FutureWarning: Pass the following variable as a keyword arg: x. From version 0.12, the only valid positional argument will be `data`, and passing other arguments without an explicit keyword will result in an error or misinterpretation.\n",
      "  warnings.warn(\n"
     ]
    },
    {
     "data": {
      "image/png": "[encoded data removed]",
      "text/plain": [
       "<Figure size 432x288 with 1 Axes>"
      ]
     },
     "metadata": {
      "needs_background": "light"
     },
     "output_type": "display_data"
    },
    {
     "name": "stdout",
     "output_type": "stream",
     "text": [
      "2003\n",
      "0    15\n",
      "1     2\n",
      "Name: Transmission, dtype: int64\n"
     ]
    },
    {
     "name": "stderr",
     "output_type": "stream",
     "text": [
      "C:\\ProgramData\\Anaconda3\\lib\\site-packages\\seaborn\\_decorators.py:36: FutureWarning: Pass the following variable as a keyword arg: x. From version 0.12, the only valid positional argument will be `data`, and passing other arguments without an explicit keyword will result in an error or misinterpretation.\n",
      "  warnings.warn(\n"
     ]
    },
    {
     "data": {
      "image/png": "[encoded data removed]",
      "text/plain": [
       "<Figure size 432x288 with 1 Axes>"
      ]
     },
     "metadata": {
      "needs_background": "light"
     },
     "output_type": "display_data"
    },
    {
     "name": "stdout",
     "output_type": "stream",
     "text": [
      "2004\n",
      "0    25\n",
      "1     6\n",
      "Name: Transmission, dtype: int64\n"
     ]
    },
    {
     "name": "stderr",
     "output_type": "stream",
     "text": [
      "C:\\ProgramData\\Anaconda3\\lib\\site-packages\\seaborn\\_decorators.py:36: FutureWarning: Pass the following variable as a keyword arg: x. From version 0.12, the only valid positional argument will be `data`, and passing other arguments without an explicit keyword will result in an error or misinterpretation.\n",
      "  warnings.warn(\n"
     ]
    },
    {
     "data": {
      "image/png": "[encoded data removed]",
      "text/plain": [
       "<Figure size 432x288 with 1 Axes>"
      ]
     },
     "metadata": {
      "needs_background": "light"
     },
     "output_type": "display_data"
    },
    {
     "name": "stdout",
     "output_type": "stream",
     "text": [
      "2005\n",
      "0    48\n",
      "1     9\n",
      "Name: Transmission, dtype: int64\n"
     ]
    },
    {
     "name": "stderr",
     "output_type": "stream",
     "text": [
      "C:\\ProgramData\\Anaconda3\\lib\\site-packages\\seaborn\\_decorators.py:36: FutureWarning: Pass the following variable as a keyword arg: x. From version 0.12, the only valid positional argument will be `data`, and passing other arguments without an explicit keyword will result in an error or misinterpretation.\n",
      "  warnings.warn(\n"
     ]
    },
    {
     "data": {
      "image/png": "[encoded data removed]",
      "text/plain": [
       "<Figure size 432x288 with 1 Axes>"
      ]
     },
     "metadata": {
      "needs_background": "light"
     },
     "output_type": "display_data"
    },
    {
     "name": "stdout",
     "output_type": "stream",
     "text": [
      "2006\n",
      "0    67\n",
      "1    11\n",
      "Name: Transmission, dtype: int64\n"
     ]
    },
    {
     "name": "stderr",
     "output_type": "stream",
     "text": [
      "C:\\ProgramData\\Anaconda3\\lib\\site-packages\\seaborn\\_decorators.py:36: FutureWarning: Pass the following variable as a keyword arg: x. From version 0.12, the only valid positional argument will be `data`, and passing other arguments without an explicit keyword will result in an error or misinterpretation.\n",
      "  warnings.warn(\n"
     ]
    },
    {
     "data": {
      "image/png": "[encoded data removed]",
      "text/plain": [
       "<Figure size 432x288 with 1 Axes>"
      ]
     },
     "metadata": {
      "needs_background": "light"
     },
     "output_type": "display_data"
    },
    {
     "name": "stdout",
     "output_type": "stream",
     "text": [
      "2007\n",
      "0    105\n",
      "1     20\n",
      "Name: Transmission, dtype: int64\n"
     ]
    },
    {
     "name": "stderr",
     "output_type": "stream",
     "text": [
      "C:\\ProgramData\\Anaconda3\\lib\\site-packages\\seaborn\\_decorators.py:36: FutureWarning: Pass the following variable as a keyword arg: x. From version 0.12, the only valid positional argument will be `data`, and passing other arguments without an explicit keyword will result in an error or misinterpretation.\n",
      "  warnings.warn(\n"
     ]
    },
    {
     "data": {
      "image/png": "[encoded data removed]",
      "text/plain": [
       "<Figure size 432x288 with 1 Axes>"
      ]
     },
     "metadata": {
      "needs_background": "light"
     },
     "output_type": "display_data"
    },
    {
     "name": "stdout",
     "output_type": "stream",
     "text": [
      "2008\n",
      "0    132\n",
      "1     42\n",
      "Name: Transmission, dtype: int64\n"
     ]
    },
    {
     "name": "stderr",
     "output_type": "stream",
     "text": [
      "C:\\ProgramData\\Anaconda3\\lib\\site-packages\\seaborn\\_decorators.py:36: FutureWarning: Pass the following variable as a keyword arg: x. From version 0.12, the only valid positional argument will be `data`, and passing other arguments without an explicit keyword will result in an error or misinterpretation.\n",
      "  warnings.warn(\n"
     ]
    },
    {
     "data": {
      "image/png": "[encoded data removed]",
      "text/plain": [
       "<Figure size 432x288 with 1 Axes>"
      ]
     },
     "metadata": {
      "needs_background": "light"
     },
     "output_type": "display_data"
    },
    {
     "name": "stdout",
     "output_type": "stream",
     "text": [
      "2009\n",
      "0    131\n",
      "1     67\n",
      "Name: Transmission, dtype: int64\n"
     ]
    },
    {
     "name": "stderr",
     "output_type": "stream",
     "text": [
      "C:\\ProgramData\\Anaconda3\\lib\\site-packages\\seaborn\\_decorators.py:36: FutureWarning: Pass the following variable as a keyword arg: x. From version 0.12, the only valid positional argument will be `data`, and passing other arguments without an explicit keyword will result in an error or misinterpretation.\n",
      "  warnings.warn(\n"
     ]
    },
    {
     "data": {
      "image/png": "[encoded data removed]",
      "text/plain": [
       "<Figure size 432x288 with 1 Axes>"
      ]
     },
     "metadata": {
      "needs_background": "light"
     },
     "output_type": "display_data"
    },
    {
     "name": "stdout",
     "output_type": "stream",
     "text": [
      "2010\n",
      "0    265\n",
      "1     77\n",
      "Name: Transmission, dtype: int64\n"
     ]
    },
    {
     "name": "stderr",
     "output_type": "stream",
     "text": [
      "C:\\ProgramData\\Anaconda3\\lib\\site-packages\\seaborn\\_decorators.py:36: FutureWarning: Pass the following variable as a keyword arg: x. From version 0.12, the only valid positional argument will be `data`, and passing other arguments without an explicit keyword will result in an error or misinterpretation.\n",
      "  warnings.warn(\n"
     ]
    },
    {
     "data": {
      "image/png": "[encoded data removed]",
      "text/plain": [
       "<Figure size 432x288 with 1 Axes>"
      ]
     },
     "metadata": {
      "needs_background": "light"
     },
     "output_type": "display_data"
    },
    {
     "name": "stdout",
     "output_type": "stream",
     "text": [
      "2011\n",
      "0    334\n",
      "1    132\n",
      "Name: Transmission, dtype: int64\n"
     ]
    },
    {
     "name": "stderr",
     "output_type": "stream",
     "text": [
      "C:\\ProgramData\\Anaconda3\\lib\\site-packages\\seaborn\\_decorators.py:36: FutureWarning: Pass the following variable as a keyword arg: x. From version 0.12, the only valid positional argument will be `data`, and passing other arguments without an explicit keyword will result in an error or misinterpretation.\n",
      "  warnings.warn(\n"
     ]
    },
    {
     "data": {
      "image/png": "[encoded data removed]",
      "text/plain": [
       "<Figure size 432x288 with 1 Axes>"
      ]
     },
     "metadata": {
      "needs_background": "light"
     },
     "output_type": "display_data"
    },
    {
     "name": "stdout",
     "output_type": "stream",
     "text": [
      "2012\n",
      "0    433\n",
      "1    147\n",
      "Name: Transmission, dtype: int64\n"
     ]
    },
    {
     "name": "stderr",
     "output_type": "stream",
     "text": [
      "C:\\ProgramData\\Anaconda3\\lib\\site-packages\\seaborn\\_decorators.py:36: FutureWarning: Pass the following variable as a keyword arg: x. From version 0.12, the only valid positional argument will be `data`, and passing other arguments without an explicit keyword will result in an error or misinterpretation.\n",
      "  warnings.warn(\n"
     ]
    },
    {
     "data": {
      "image/png": "[encoded data removed]",
      "text/plain": [
       "<Figure size 432x288 with 1 Axes>"
      ]
     },
     "metadata": {
      "needs_background": "light"
     },
     "output_type": "display_data"
    },
    {
     "name": "stdout",
     "output_type": "stream",
     "text": [
      "2013\n",
      "0    469\n",
      "1    180\n",
      "Name: Transmission, dtype: int64\n"
     ]
    },
    {
     "name": "stderr",
     "output_type": "stream",
     "text": [
      "C:\\ProgramData\\Anaconda3\\lib\\site-packages\\seaborn\\_decorators.py:36: FutureWarning: Pass the following variable as a keyword arg: x. From version 0.12, the only valid positional argument will be `data`, and passing other arguments without an explicit keyword will result in an error or misinterpretation.\n",
      "  warnings.warn(\n"
     ]
    },
    {
     "data": {
      "image/png": "[encoded data removed]",
      "text/plain": [
       "<Figure size 432x288 with 1 Axes>"
      ]
     },
     "metadata": {
      "needs_background": "light"
     },
     "output_type": "display_data"
    },
    {
     "name": "stdout",
     "output_type": "stream",
     "text": [
      "2014\n",
      "0    572\n",
      "1    225\n",
      "Name: Transmission, dtype: int64\n"
     ]
    },
    {
     "name": "stderr",
     "output_type": "stream",
     "text": [
      "C:\\ProgramData\\Anaconda3\\lib\\site-packages\\seaborn\\_decorators.py:36: FutureWarning: Pass the following variable as a keyword arg: x. From version 0.12, the only valid positional argument will be `data`, and passing other arguments without an explicit keyword will result in an error or misinterpretation.\n",
      "  warnings.warn(\n"
     ]
    },
    {
     "data": {
      "image/png": "[encoded data removed]",
      "text/plain": [
       "<Figure size 432x288 with 1 Axes>"
      ]
     },
     "metadata": {
      "needs_background": "light"
     },
     "output_type": "display_data"
    },
    {
     "name": "stdout",
     "output_type": "stream",
     "text": [
      "2015\n",
      "0    523\n",
      "1    221\n",
      "Name: Transmission, dtype: int64\n"
     ]
    },
    {
     "name": "stderr",
     "output_type": "stream",
     "text": [
      "C:\\ProgramData\\Anaconda3\\lib\\site-packages\\seaborn\\_decorators.py:36: FutureWarning: Pass the following variable as a keyword arg: x. From version 0.12, the only valid positional argument will be `data`, and passing other arguments without an explicit keyword will result in an error or misinterpretation.\n",
      "  warnings.warn(\n"
     ]
    },
    {
     "data": {
      "image/png": "[encoded data removed]",
      "text/plain": [
       "<Figure size 432x288 with 1 Axes>"
      ]
     },
     "metadata": {
      "needs_background": "light"
     },
     "output_type": "display_data"
    },
    {
     "name": "stdout",
     "output_type": "stream",
     "text": [
      "2016\n",
      "0    512\n",
      "1    229\n",
      "Name: Transmission, dtype: int64\n"
     ]
    },
    {
     "name": "stderr",
     "output_type": "stream",
     "text": [
      "C:\\ProgramData\\Anaconda3\\lib\\site-packages\\seaborn\\_decorators.py:36: FutureWarning: Pass the following variable as a keyword arg: x. From version 0.12, the only valid positional argument will be `data`, and passing other arguments without an explicit keyword will result in an error or misinterpretation.\n",
      "  warnings.warn(\n"
     ]
    },
    {
     "data": {
      "image/png": "[encoded data removed]",
      "text/plain": [
       "<Figure size 432x288 with 1 Axes>"
      ]
     },
     "metadata": {
      "needs_background": "light"
     },
     "output_type": "display_data"
    },
    {
     "name": "stderr",
     "output_type": "stream",
     "text": [
      "C:\\ProgramData\\Anaconda3\\lib\\site-packages\\seaborn\\_decorators.py:36: FutureWarning: Pass the following variable as a keyword arg: x. From version 0.12, the only valid positional argument will be `data`, and passing other arguments without an explicit keyword will result in an error or misinterpretation.\n",
      "  warnings.warn(\n"
     ]
    },
    {
     "name": "stdout",
     "output_type": "stream",
     "text": [
      "2017\n",
      "0    389\n",
      "1    198\n",
      "Name: Transmission, dtype: int64\n"
     ]
    },
    {
     "data": {
      "image/png": "[encoded data removed]",
      "text/plain": [
       "<Figure size 432x288 with 1 Axes>"
      ]
     },
     "metadata": {
      "needs_background": "light"
     },
     "output_type": "display_data"
    },
    {
     "name": "stdout",
     "output_type": "stream",
     "text": [
      "2018\n",
      "0    191\n",
      "1    107\n",
      "Name: Transmission, dtype: int64\n"
     ]
    },
    {
     "name": "stderr",
     "output_type": "stream",
     "text": [
      "C:\\ProgramData\\Anaconda3\\lib\\site-packages\\seaborn\\_decorators.py:36: FutureWarning: Pass the following variable as a keyword arg: x. From version 0.12, the only valid positional argument will be `data`, and passing other arguments without an explicit keyword will result in an error or misinterpretation.\n",
      "  warnings.warn(\n"
     ]
    },
    {
     "data": {
      "image/png": "[encoded data removed]",
      "text/plain": [
       "<Figure size 432x288 with 1 Axes>"
      ]
     },
     "metadata": {
      "needs_background": "light"
     },
     "output_type": "display_data"
    }
   ],
   "source": [
    "for i in range(1998,2019):\n",
    "    print(i)\n",
    "    print(df[df['Year']==i]['Transmission'].value_counts())\n",
    "    plt.figure()\n",
    "    sns.countplot(df[df['Year']==i]['Transmission'])\n",
    "    plt.show()"
   ]
  },
  {
   "cell_type": "markdown",
   "id": "7961ff37",
   "metadata": {},
   "source": [
    "### 3-most of people are trying to sell manual cars of model year 2007 and less because they are too tiring "
   ]
  },
  {
   "cell_type": "code",
   "execution_count": 25,
   "id": "60b9a12c",
   "metadata": {},
   "outputs": [
    {
     "name": "stderr",
     "output_type": "stream",
     "text": [
      "C:\\ProgramData\\Anaconda3\\lib\\site-packages\\seaborn\\_decorators.py:36: FutureWarning: Pass the following variable as a keyword arg: x. From version 0.12, the only valid positional argument will be `data`, and passing other arguments without an explicit keyword will result in an error or misinterpretation.\n",
      "  warnings.warn(\n"
     ]
    },
    {
     "data": {
      "image/png": "[encoded data removed]",
      "text/plain": [
       "<Figure size 720x720 with 1 Axes>"
      ]
     },
     "metadata": {
      "needs_background": "light"
     },
     "output_type": "display_data"
    }
   ],
   "source": [
    "plt.figure(figsize=(10,10))\n",
    "sns.countplot(df['Brands'])\n",
    "plt.xticks(rotation=90)\n",
    "plt.show()"
   ]
  },
  {
   "cell_type": "code",
   "execution_count": 48,
   "id": "8b7a9d58",
   "metadata": {},
   "outputs": [
    {
     "data": {
      "image/png": "[encoded data removed]",
      "text/plain": [
       "<Figure size 720x720 with 2 Axes>"
      ]
     },
     "metadata": {
      "needs_background": "light"
     },
     "output_type": "display_data"
    }
   ],
   "source": [
    "plt.figure(figsize=(10,10))\n",
    "sns.heatmap(df.pivot_table(values='Price',index='Brands',columns=['Year']).drop('Lamborghini'),annot=True,cmap='coolwarm')\n",
    "plt.show()"
   ]
  },
  {
   "cell_type": "code",
   "execution_count": 50,
   "id": "afdfe2ac",
   "metadata": {},
   "outputs": [
    {
     "data": {
      "image/png": "[encoded data removed]",
      "text/plain": [
       "<Figure size 720x720 with 2 Axes>"
      ]
     },
     "metadata": {
      "needs_background": "light"
     },
     "output_type": "display_data"
    }
   ],
   "source": [
    "plt.figure(figsize=(10,10))\n",
    "sns.heatmap(df.pivot_table(values='Power',index='Brands',columns=['Year']).drop('Lamborghini'),cmap='coolwarm')\n",
    "plt.show()"
   ]
  },
  {
   "cell_type": "markdown",
   "id": "04373391",
   "metadata": {},
   "source": [
    "## we have noticed from the above two heatmaps that therea re two brands that may have the same range of power but diffrence in prices due to their availability in the market (g.e :skoda and hyundai)"
   ]
  },
  {
   "cell_type": "markdown",
   "id": "e78346c1",
   "metadata": {},
   "source": [
    "## Another thing we noticed that maruti has the biggest contribution in  the market because it is the car with medium features"
   ]
  },
  {
   "cell_type": "markdown",
   "id": "4f44e05a",
   "metadata": {},
   "source": [
    "## so we will try to make a new column that counts the cars in the market"
   ]
  },
  {
   "cell_type": "code",
   "execution_count": 54,
   "id": "97327807",
   "metadata": {},
   "outputs": [],
   "source": [
    "df['Availability']=df['Brands'].replace({'Maruti'  :        1211\n",
    ",'Hyundai'    :    1107\n",
    ",'Honda'    :       608\n",
    ",'Toyota'    :        411\n",
    ",'Mercedes-Benz'   :  318\n",
    ",'Volkswagen' :       315\n",
    ",'Ford'      :      300\n",
    ",'Mahindra'  :       272\n",
    ",'BMW'   :          267\n",
    ",'Audi'  :        236\n",
    ",'Tata'   :        186\n",
    ",'Skoda'   :          173\n",
    ",'Renault'   :        145\n",
    ",'Chevrolet'  :       121\n",
    ",'Nissan' :            91\n",
    ",'Land'   :            60\n",
    ",'Jaguar'  :           40\n",
    ",'Fiat'    :           28\n",
    ",'Mitsubishi' :        27\n",
    ",'Mini'      :         26\n",
    ",'Volvo'      :        21\n",
    ",'Porsche'    :        18\n",
    ",'Jeep'     :          15\n",
    ",'Datsun'  :           13\n",
    ",'ISUZU'   :            3\n",
    ",'Force'   :           3\n",
    ",'Lamborghini':         1\n",
    ",'Bentley' :            1\n",
    ",'Smart'  :             1\n",
    ",'Ambassador'   :       1\n",
    "    \n",
    "})"
   ]
  },
  {
   "cell_type": "code",
   "execution_count": 43,
   "id": "8c6a2ba3",
   "metadata": {},
   "outputs": [
    {
     "data": {
      "text/plain": [
       "Index(['Ambassador', 'Audi', 'BMW', 'Bentley', 'Chevrolet', 'Datsun', 'Fiat',\n",
       "       'Force', 'Ford', 'Honda', 'Hyundai', 'ISUZU', 'Jaguar', 'Jeep',\n",
       "       'Lamborghini', 'Land', 'Mahindra', 'Maruti', 'Mercedes-Benz', 'Mini',\n",
       "       'Mitsubishi', 'Nissan', 'Porsche', 'Renault', 'Skoda', 'Smart', 'Tata',\n",
       "       'Toyota', 'Volkswagen', 'Volvo'],\n",
       "      dtype='object', name='Brands')"
      ]
     },
     "execution_count": 43,
     "metadata": {},
     "output_type": "execute_result"
    }
   ],
   "source": [
    "df.pivot_table(values='Price',index='Brands',columns=['Year']).index"
   ]
  },
  {
   "cell_type": "markdown",
   "id": "394ab84c",
   "metadata": {},
   "source": [
    "### we notice that cars like land rovers can walk for longtime and can still be sold"
   ]
  },
  {
   "cell_type": "code",
   "execution_count": 26,
   "id": "f43dc02f",
   "metadata": {},
   "outputs": [
    {
     "data": {
      "image/png": "[encoded data removed]",
      "text/plain": [
       "<Figure size 432x288 with 1 Axes>"
      ]
     },
     "metadata": {
      "needs_background": "light"
     },
     "output_type": "display_data"
    }
   ],
   "source": [
    "plt.figure()\n",
    "plt.scatter(df['Power'],df['Engine'])\n",
    "plt.show()"
   ]
  },
  {
   "cell_type": "markdown",
   "id": "4b2a8cbf",
   "metadata": {},
   "source": [
    "## we noticed that there is a good positive correlation\n",
    "## we noticed also a weird bahaviour of graph that there is a big range of cars with 3000 CC"
   ]
  },
  {
   "cell_type": "code",
   "execution_count": 33,
   "id": "2df0b84f",
   "metadata": {},
   "outputs": [
    {
     "data": {
      "text/plain": [
       "(331, 14)"
      ]
     },
     "execution_count": 33,
     "metadata": {},
     "output_type": "execute_result"
    }
   ],
   "source": [
    "dfl=df[df['Engine']<=3100]\n",
    "dfl=dfl[dfl['Engine']>=2900]\n",
    "dfl.shape"
   ]
  },
  {
   "cell_type": "code",
   "execution_count": 57,
   "id": "0641d25a",
   "metadata": {},
   "outputs": [
    {
     "data": {
      "text/html": [
       "<div>\n",
       "<style scoped>\n",
       "    .dataframe tbody tr th:only-of-type {\n",
       "        vertical-align: middle;\n",
       "    }\n",
       "\n",
       "    .dataframe tbody tr th {\n",
       "        vertical-align: top;\n",
       "    }\n",
       "\n",
       "    .dataframe thead th {\n",
       "        text-align: right;\n",
       "    }\n",
       "</style>\n",
       "<table border=\"1\" class=\"dataframe\">\n",
       "  <thead>\n",
       "    <tr style=\"text-align: right;\">\n",
       "      <th></th>\n",
       "      <th>Year</th>\n",
       "      <th>Kilometers_Driven</th>\n",
       "      <th>Transmission</th>\n",
       "      <th>Owner_Type</th>\n",
       "      <th>Engine</th>\n",
       "      <th>Power</th>\n",
       "      <th>Seats</th>\n",
       "      <th>Price</th>\n",
       "      <th>km/year</th>\n",
       "      <th>Availability</th>\n",
       "    </tr>\n",
       "  </thead>\n",
       "  <tbody>\n",
       "    <tr>\n",
       "      <th>Year</th>\n",
       "      <td>1.000000</td>\n",
       "      <td>-0.173048</td>\n",
       "      <td>0.097059</td>\n",
       "      <td>-0.397152</td>\n",
       "      <td>-0.052197</td>\n",
       "      <td>0.014525</td>\n",
       "      <td>0.012333</td>\n",
       "      <td>0.305327</td>\n",
       "      <td>-0.054577</td>\n",
       "      <td>0.016288</td>\n",
       "    </tr>\n",
       "    <tr>\n",
       "      <th>Kilometers_Driven</th>\n",
       "      <td>-0.173048</td>\n",
       "      <td>1.000000</td>\n",
       "      <td>-0.025663</td>\n",
       "      <td>0.085337</td>\n",
       "      <td>0.091068</td>\n",
       "      <td>0.033503</td>\n",
       "      <td>0.083113</td>\n",
       "      <td>-0.011493</td>\n",
       "      <td>-0.121483</td>\n",
       "      <td>-0.050044</td>\n",
       "    </tr>\n",
       "    <tr>\n",
       "      <th>Transmission</th>\n",
       "      <td>0.097059</td>\n",
       "      <td>-0.025663</td>\n",
       "      <td>1.000000</td>\n",
       "      <td>-0.008797</td>\n",
       "      <td>0.500381</td>\n",
       "      <td>0.643737</td>\n",
       "      <td>-0.075475</td>\n",
       "      <td>0.586025</td>\n",
       "      <td>0.006323</td>\n",
       "      <td>-0.341311</td>\n",
       "    </tr>\n",
       "    <tr>\n",
       "      <th>Owner_Type</th>\n",
       "      <td>-0.397152</td>\n",
       "      <td>0.085337</td>\n",
       "      <td>-0.008797</td>\n",
       "      <td>1.000000</td>\n",
       "      <td>0.050907</td>\n",
       "      <td>0.026088</td>\n",
       "      <td>0.014052</td>\n",
       "      <td>-0.097557</td>\n",
       "      <td>-0.010639</td>\n",
       "      <td>-0.040567</td>\n",
       "    </tr>\n",
       "    <tr>\n",
       "      <th>Engine</th>\n",
       "      <td>-0.052197</td>\n",
       "      <td>0.091068</td>\n",
       "      <td>0.500381</td>\n",
       "      <td>0.050907</td>\n",
       "      <td>1.000000</td>\n",
       "      <td>0.866185</td>\n",
       "      <td>0.393337</td>\n",
       "      <td>0.658354</td>\n",
       "      <td>-0.057974</td>\n",
       "      <td>-0.528732</td>\n",
       "    </tr>\n",
       "    <tr>\n",
       "      <th>Power</th>\n",
       "      <td>0.014525</td>\n",
       "      <td>0.033503</td>\n",
       "      <td>0.643737</td>\n",
       "      <td>0.026088</td>\n",
       "      <td>0.866185</td>\n",
       "      <td>1.000000</td>\n",
       "      <td>0.101562</td>\n",
       "      <td>0.772566</td>\n",
       "      <td>-0.016878</td>\n",
       "      <td>-0.466131</td>\n",
       "    </tr>\n",
       "    <tr>\n",
       "      <th>Seats</th>\n",
       "      <td>0.012333</td>\n",
       "      <td>0.083113</td>\n",
       "      <td>-0.075475</td>\n",
       "      <td>0.014052</td>\n",
       "      <td>0.393337</td>\n",
       "      <td>0.101562</td>\n",
       "      <td>1.000000</td>\n",
       "      <td>0.052225</td>\n",
       "      <td>-0.115701</td>\n",
       "      <td>-0.153835</td>\n",
       "    </tr>\n",
       "    <tr>\n",
       "      <th>Price</th>\n",
       "      <td>0.305327</td>\n",
       "      <td>-0.011493</td>\n",
       "      <td>0.586025</td>\n",
       "      <td>-0.097557</td>\n",
       "      <td>0.658354</td>\n",
       "      <td>0.772566</td>\n",
       "      <td>0.052225</td>\n",
       "      <td>1.000000</td>\n",
       "      <td>0.000750</td>\n",
       "      <td>-0.367828</td>\n",
       "    </tr>\n",
       "    <tr>\n",
       "      <th>km/year</th>\n",
       "      <td>-0.054577</td>\n",
       "      <td>-0.121483</td>\n",
       "      <td>0.006323</td>\n",
       "      <td>-0.010639</td>\n",
       "      <td>-0.057974</td>\n",
       "      <td>-0.016878</td>\n",
       "      <td>-0.115701</td>\n",
       "      <td>0.000750</td>\n",
       "      <td>1.000000</td>\n",
       "      <td>0.010125</td>\n",
       "    </tr>\n",
       "    <tr>\n",
       "      <th>Availability</th>\n",
       "      <td>0.016288</td>\n",
       "      <td>-0.050044</td>\n",
       "      <td>-0.341311</td>\n",
       "      <td>-0.040567</td>\n",
       "      <td>-0.528732</td>\n",
       "      <td>-0.466131</td>\n",
       "      <td>-0.153835</td>\n",
       "      <td>-0.367828</td>\n",
       "      <td>0.010125</td>\n",
       "      <td>1.000000</td>\n",
       "    </tr>\n",
       "  </tbody>\n",
       "</table>\n",
       "</div>"
      ],
      "text/plain": [
       "                       Year  Kilometers_Driven  Transmission  Owner_Type  \\\n",
       "Year               1.000000          -0.173048      0.097059   -0.397152   \n",
       "Kilometers_Driven -0.173048           1.000000     -0.025663    0.085337   \n",
       "Transmission       0.097059          -0.025663      1.000000   -0.008797   \n",
       "Owner_Type        -0.397152           0.085337     -0.008797    1.000000   \n",
       "Engine            -0.052197           0.091068      0.500381    0.050907   \n",
       "Power              0.014525           0.033503      0.643737    0.026088   \n",
       "Seats              0.012333           0.083113     -0.075475    0.014052   \n",
       "Price              0.305327          -0.011493      0.586025   -0.097557   \n",
       "km/year           -0.054577          -0.121483      0.006323   -0.010639   \n",
       "Availability       0.016288          -0.050044     -0.341311   -0.040567   \n",
       "\n",
       "                     Engine     Power     Seats     Price   km/year  \\\n",
       "Year              -0.052197  0.014525  0.012333  0.305327 -0.054577   \n",
       "Kilometers_Driven  0.091068  0.033503  0.083113 -0.011493 -0.121483   \n",
       "Transmission       0.500381  0.643737 -0.075475  0.586025  0.006323   \n",
       "Owner_Type         0.050907  0.026088  0.014052 -0.097557 -0.010639   \n",
       "Engine             1.000000  0.866185  0.393337  0.658354 -0.057974   \n",
       "Power              0.866185  1.000000  0.101562  0.772566 -0.016878   \n",
       "Seats              0.393337  0.101562  1.000000  0.052225 -0.115701   \n",
       "Price              0.658354  0.772566  0.052225  1.000000  0.000750   \n",
       "km/year           -0.057974 -0.016878 -0.115701  0.000750  1.000000   \n",
       "Availability      -0.528732 -0.466131 -0.153835 -0.367828  0.010125   \n",
       "\n",
       "                   Availability  \n",
       "Year                   0.016288  \n",
       "Kilometers_Driven     -0.050044  \n",
       "Transmission          -0.341311  \n",
       "Owner_Type            -0.040567  \n",
       "Engine                -0.528732  \n",
       "Power                 -0.466131  \n",
       "Seats                 -0.153835  \n",
       "Price                 -0.367828  \n",
       "km/year                0.010125  \n",
       "Availability           1.000000  "
      ]
     },
     "execution_count": 57,
     "metadata": {},
     "output_type": "execute_result"
    }
   ],
   "source": [
    "df.corr()"
   ]
  },
  {
   "cell_type": "code",
   "execution_count": 58,
   "id": "399921a8",
   "metadata": {},
   "outputs": [
    {
     "data": {
      "text/plain": [
       "<matplotlib.collections.PathCollection at 0x14108250c70>"
      ]
     },
     "execution_count": 58,
     "metadata": {},
     "output_type": "execute_result"
    },
    {
     "data": {
      "image/png": "[encoded data removed]",
      "text/plain": [
       "<Figure size 432x288 with 1 Axes>"
      ]
     },
     "metadata": {
      "needs_background": "light"
     },
     "output_type": "display_data"
    }
   ],
   "source": [
    "plt.scatter(df['Availability'],df['Engine'])"
   ]
  },
  {
   "cell_type": "markdown",
   "id": "b33b8fbe",
   "metadata": {},
   "source": [
    "## we have noticed that there is a negative correlation between Engine feature and availability which makes sense because people does not tend to sell cars that can save up fuel money for them"
   ]
  },
  {
   "cell_type": "code",
   "execution_count": null,
   "id": "b0349dd7",
   "metadata": {},
   "outputs": [],
   "source": []
  }
 ],
 "metadata": {
  "kernelspec": {
   "display_name": "Python 3",
   "language": "python",
   "name": "python3"
  },
  "language_info": {
   "codemirror_mode": {
    "name": "ipython",
    "version": 3
   },
   "file_extension": ".py",
   "mimetype": "text/x-python",
   "name": "python",
   "nbconvert_exporter": "python",
   "pygments_lexer": "ipython3",
   "version": "3.8.8"
  }
 },
 "nbformat": 4,
 "nbformat_minor": 5
}
